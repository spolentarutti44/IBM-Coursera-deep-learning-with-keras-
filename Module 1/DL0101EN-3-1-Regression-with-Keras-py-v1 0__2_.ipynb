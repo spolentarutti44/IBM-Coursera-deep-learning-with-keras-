{
 "cells": [
  {
   "cell_type": "markdown",
   "metadata": {},
   "source": [
    "<a href=\"https://cognitiveclass.ai\"><img src=\"https://cf-courses-data.s3.us.cloud-object-storage.appdomain.cloud/IBMDeveloperSkillsNetwork-DL0101EN-SkillsNetwork/images/IDSN-logo.png\" width=\"400\"> </a>\n",
    "\n",
    "# Regression Models with Keras\n",
    "\n",
    "Estimated time needed: **45** mins\n"
   ]
  },
  {
   "cell_type": "markdown",
   "metadata": {},
   "source": [
    "## Introduction\n"
   ]
  },
  {
   "cell_type": "markdown",
   "metadata": {},
   "source": [
    "As we discussed in the videos, despite the popularity of more powerful libraries such as PyToch and TensorFlow, they are not easy to use and have a steep learning curve. So, for people who are just starting to learn deep learning, there is no better library to use other than the Keras library. \n",
    "\n",
    "Keras is a high-level API for building deep learning models. It has gained favor for its ease of use and syntactic simplicity facilitating fast development. As you will see in this lab and the other labs in this course, building a very complex deep learning network can be achieved with Keras with only few lines of code. You will appreciate Keras even more, once you learn how to build deep models using PyTorch and TensorFlow in the other courses.\n",
    "\n",
    "So, in this lab, you will learn how to use the Keras library to build a regression model.\n"
   ]
  },
  {
   "cell_type": "markdown",
   "metadata": {},
   "source": [
    "## Objectives for this Notebook    \n",
    "* How to use the Keras library to build a regression model\n",
    "* Download and clean the data set\n",
    "* Build a neural network\n",
    "* Train and test the network     \n",
    "\n"
   ]
  },
  {
   "cell_type": "markdown",
   "metadata": {},
   "source": [
    "<h2>Table of Contents</h2>\n",
    "\n",
    "\n",
    "<div class=\"alert alert-block alert-info\" style=\"margin-top: 20px\">\n",
    "\n",
    "<font size = 4>\n",
    "1. <a href=\"#Download-and-Clean-the-Data-Set\">Download and Clean the Data Set</a><br>\n",
    "2. <a href=\"#Import-Keras-Packages\">Import Keras Packages</a><br>\n",
    "3. <a href=\"#Build-a-Neural-Network\">Build a Neural Network</a><br>\n",
    "4. <a href=\"#Train-and-Test-the-Network\">Train and Test the Network</a><br>  \n",
    "\n",
    "</font>\n",
    "</div>\n"
   ]
  },
  {
   "cell_type": "markdown",
   "metadata": {},
   "source": [
    "Let's start by importing the <em>pandas</em> and the Numpy libraries.\n"
   ]
  },
  {
   "cell_type": "code",
   "execution_count": 1,
   "metadata": {},
   "outputs": [
    {
     "name": "stdout",
     "output_type": "stream",
     "text": [
      "Collecting numpy==2.0.2\n",
      "  Downloading numpy-2.0.2-cp312-cp312-manylinux_2_17_x86_64.manylinux2014_x86_64.whl.metadata (60 kB)\n",
      "Downloading numpy-2.0.2-cp312-cp312-manylinux_2_17_x86_64.manylinux2014_x86_64.whl (19.2 MB)\n",
      "\u001b[2K   \u001b[90m━━━━━━━━━━━━━━━━━━━━━━━━━━━━━━━━━━━━━━━━\u001b[0m \u001b[32m19.2/19.2 MB\u001b[0m \u001b[31m124.0 MB/s\u001b[0m eta \u001b[36m0:00:00\u001b[0m\n",
      "Installing collected packages: numpy\n",
      "Successfully installed numpy-2.0.2\n",
      "Collecting pandas==2.2.2\n",
      "  Downloading pandas-2.2.2-cp312-cp312-manylinux_2_17_x86_64.manylinux2014_x86_64.whl.metadata (19 kB)\n",
      "Requirement already satisfied: numpy>=1.26.0 in /opt/conda/lib/python3.12/site-packages (from pandas==2.2.2) (2.0.2)\n",
      "Requirement already satisfied: python-dateutil>=2.8.2 in /opt/conda/lib/python3.12/site-packages (from pandas==2.2.2) (2.9.0.post0)\n",
      "Requirement already satisfied: pytz>=2020.1 in /opt/conda/lib/python3.12/site-packages (from pandas==2.2.2) (2024.2)\n",
      "Collecting tzdata>=2022.7 (from pandas==2.2.2)\n",
      "  Downloading tzdata-2025.2-py2.py3-none-any.whl.metadata (1.4 kB)\n",
      "Requirement already satisfied: six>=1.5 in /opt/conda/lib/python3.12/site-packages (from python-dateutil>=2.8.2->pandas==2.2.2) (1.17.0)\n",
      "Downloading pandas-2.2.2-cp312-cp312-manylinux_2_17_x86_64.manylinux2014_x86_64.whl (12.7 MB)\n",
      "\u001b[2K   \u001b[90m━━━━━━━━━━━━━━━━━━━━━━━━━━━━━━━━━━━━━━━━\u001b[0m \u001b[32m12.7/12.7 MB\u001b[0m \u001b[31m158.2 MB/s\u001b[0m eta \u001b[36m0:00:00\u001b[0m\n",
      "\u001b[?25hDownloading tzdata-2025.2-py2.py3-none-any.whl (347 kB)\n",
      "Installing collected packages: tzdata, pandas\n",
      "Successfully installed pandas-2.2.2 tzdata-2025.2\n",
      "Collecting tensorflow_cpu==2.18.0\n",
      "  Downloading tensorflow_cpu-2.18.0-cp312-cp312-manylinux_2_17_x86_64.manylinux2014_x86_64.whl.metadata (4.1 kB)\n",
      "Collecting absl-py>=1.0.0 (from tensorflow_cpu==2.18.0)\n",
      "  Downloading absl_py-2.3.1-py3-none-any.whl.metadata (3.3 kB)\n",
      "Collecting astunparse>=1.6.0 (from tensorflow_cpu==2.18.0)\n",
      "  Downloading astunparse-1.6.3-py2.py3-none-any.whl.metadata (4.4 kB)\n",
      "Collecting flatbuffers>=24.3.25 (from tensorflow_cpu==2.18.0)\n",
      "  Downloading flatbuffers-25.2.10-py2.py3-none-any.whl.metadata (875 bytes)\n",
      "Collecting gast!=0.5.0,!=0.5.1,!=0.5.2,>=0.2.1 (from tensorflow_cpu==2.18.0)\n",
      "  Downloading gast-0.6.0-py3-none-any.whl.metadata (1.3 kB)\n",
      "Collecting google-pasta>=0.1.1 (from tensorflow_cpu==2.18.0)\n",
      "  Downloading google_pasta-0.2.0-py3-none-any.whl.metadata (814 bytes)\n",
      "Collecting libclang>=13.0.0 (from tensorflow_cpu==2.18.0)\n",
      "  Downloading libclang-18.1.1-py2.py3-none-manylinux2010_x86_64.whl.metadata (5.2 kB)\n",
      "Collecting opt-einsum>=2.3.2 (from tensorflow_cpu==2.18.0)\n",
      "  Downloading opt_einsum-3.4.0-py3-none-any.whl.metadata (6.3 kB)\n",
      "Requirement already satisfied: packaging in /opt/conda/lib/python3.12/site-packages (from tensorflow_cpu==2.18.0) (24.2)\n",
      "Collecting protobuf!=4.21.0,!=4.21.1,!=4.21.2,!=4.21.3,!=4.21.4,!=4.21.5,<6.0.0dev,>=3.20.3 (from tensorflow_cpu==2.18.0)\n",
      "  Downloading protobuf-5.29.5-cp38-abi3-manylinux2014_x86_64.whl.metadata (592 bytes)\n",
      "Requirement already satisfied: requests<3,>=2.21.0 in /opt/conda/lib/python3.12/site-packages (from tensorflow_cpu==2.18.0) (2.32.3)\n",
      "Requirement already satisfied: setuptools in /opt/conda/lib/python3.12/site-packages (from tensorflow_cpu==2.18.0) (75.8.0)\n",
      "Requirement already satisfied: six>=1.12.0 in /opt/conda/lib/python3.12/site-packages (from tensorflow_cpu==2.18.0) (1.17.0)\n",
      "Collecting termcolor>=1.1.0 (from tensorflow_cpu==2.18.0)\n",
      "  Downloading termcolor-3.1.0-py3-none-any.whl.metadata (6.4 kB)\n",
      "Requirement already satisfied: typing-extensions>=3.6.6 in /opt/conda/lib/python3.12/site-packages (from tensorflow_cpu==2.18.0) (4.12.2)\n",
      "Collecting wrapt>=1.11.0 (from tensorflow_cpu==2.18.0)\n",
      "  Downloading wrapt-1.17.2-cp312-cp312-manylinux_2_5_x86_64.manylinux1_x86_64.manylinux_2_17_x86_64.manylinux2014_x86_64.whl.metadata (6.4 kB)\n",
      "Collecting grpcio<2.0,>=1.24.3 (from tensorflow_cpu==2.18.0)\n",
      "  Downloading grpcio-1.73.1-cp312-cp312-manylinux_2_17_x86_64.manylinux2014_x86_64.whl.metadata (3.8 kB)\n",
      "Collecting tensorboard<2.19,>=2.18 (from tensorflow_cpu==2.18.0)\n",
      "  Downloading tensorboard-2.18.0-py3-none-any.whl.metadata (1.6 kB)\n",
      "Collecting keras>=3.5.0 (from tensorflow_cpu==2.18.0)\n",
      "  Downloading keras-3.10.0-py3-none-any.whl.metadata (6.0 kB)\n",
      "Requirement already satisfied: numpy<2.1.0,>=1.26.0 in /opt/conda/lib/python3.12/site-packages (from tensorflow_cpu==2.18.0) (2.0.2)\n",
      "Collecting h5py>=3.11.0 (from tensorflow_cpu==2.18.0)\n",
      "  Downloading h5py-3.14.0-cp312-cp312-manylinux_2_17_x86_64.manylinux2014_x86_64.whl.metadata (2.7 kB)\n",
      "Collecting ml-dtypes<0.5.0,>=0.4.0 (from tensorflow_cpu==2.18.0)\n",
      "  Downloading ml_dtypes-0.4.1-cp312-cp312-manylinux_2_17_x86_64.manylinux2014_x86_64.whl.metadata (20 kB)\n",
      "Requirement already satisfied: wheel<1.0,>=0.23.0 in /opt/conda/lib/python3.12/site-packages (from astunparse>=1.6.0->tensorflow_cpu==2.18.0) (0.45.1)\n",
      "Collecting rich (from keras>=3.5.0->tensorflow_cpu==2.18.0)\n",
      "  Downloading rich-14.0.0-py3-none-any.whl.metadata (18 kB)\n",
      "Collecting namex (from keras>=3.5.0->tensorflow_cpu==2.18.0)\n",
      "  Downloading namex-0.1.0-py3-none-any.whl.metadata (322 bytes)\n",
      "Collecting optree (from keras>=3.5.0->tensorflow_cpu==2.18.0)\n",
      "  Downloading optree-0.16.0-cp312-cp312-manylinux_2_17_x86_64.manylinux2014_x86_64.whl.metadata (30 kB)\n",
      "Requirement already satisfied: charset_normalizer<4,>=2 in /opt/conda/lib/python3.12/site-packages (from requests<3,>=2.21.0->tensorflow_cpu==2.18.0) (3.4.1)\n",
      "Requirement already satisfied: idna<4,>=2.5 in /opt/conda/lib/python3.12/site-packages (from requests<3,>=2.21.0->tensorflow_cpu==2.18.0) (3.10)\n",
      "Requirement already satisfied: urllib3<3,>=1.21.1 in /opt/conda/lib/python3.12/site-packages (from requests<3,>=2.21.0->tensorflow_cpu==2.18.0) (2.3.0)\n",
      "Requirement already satisfied: certifi>=2017.4.17 in /opt/conda/lib/python3.12/site-packages (from requests<3,>=2.21.0->tensorflow_cpu==2.18.0) (2024.12.14)\n",
      "Collecting markdown>=2.6.8 (from tensorboard<2.19,>=2.18->tensorflow_cpu==2.18.0)\n",
      "  Downloading markdown-3.8.2-py3-none-any.whl.metadata (5.1 kB)\n",
      "Collecting tensorboard-data-server<0.8.0,>=0.7.0 (from tensorboard<2.19,>=2.18->tensorflow_cpu==2.18.0)\n",
      "  Downloading tensorboard_data_server-0.7.2-py3-none-manylinux_2_31_x86_64.whl.metadata (1.1 kB)\n",
      "Collecting werkzeug>=1.0.1 (from tensorboard<2.19,>=2.18->tensorflow_cpu==2.18.0)\n",
      "  Downloading werkzeug-3.1.3-py3-none-any.whl.metadata (3.7 kB)\n",
      "Requirement already satisfied: MarkupSafe>=2.1.1 in /opt/conda/lib/python3.12/site-packages (from werkzeug>=1.0.1->tensorboard<2.19,>=2.18->tensorflow_cpu==2.18.0) (3.0.2)\n",
      "Collecting markdown-it-py>=2.2.0 (from rich->keras>=3.5.0->tensorflow_cpu==2.18.0)\n",
      "  Downloading markdown_it_py-3.0.0-py3-none-any.whl.metadata (6.9 kB)\n",
      "Requirement already satisfied: pygments<3.0.0,>=2.13.0 in /opt/conda/lib/python3.12/site-packages (from rich->keras>=3.5.0->tensorflow_cpu==2.18.0) (2.19.1)\n",
      "Collecting mdurl~=0.1 (from markdown-it-py>=2.2.0->rich->keras>=3.5.0->tensorflow_cpu==2.18.0)\n",
      "  Downloading mdurl-0.1.2-py3-none-any.whl.metadata (1.6 kB)\n",
      "Downloading tensorflow_cpu-2.18.0-cp312-cp312-manylinux_2_17_x86_64.manylinux2014_x86_64.whl (230.3 MB)\n",
      "\u001b[2K   \u001b[90m━━━━━━━━━━━━━━━━━━━━━━━━━━━━━━━━━━━━━━━━\u001b[0m \u001b[32m230.3/230.3 MB\u001b[0m \u001b[31m31.6 MB/s\u001b[0m eta \u001b[36m0:00:00\u001b[0m00:01\u001b[0m00:01\u001b[0m\n",
      "\u001b[?25hDownloading absl_py-2.3.1-py3-none-any.whl (135 kB)\n",
      "Downloading astunparse-1.6.3-py2.py3-none-any.whl (12 kB)\n",
      "Downloading flatbuffers-25.2.10-py2.py3-none-any.whl (30 kB)\n",
      "Downloading gast-0.6.0-py3-none-any.whl (21 kB)\n",
      "Downloading google_pasta-0.2.0-py3-none-any.whl (57 kB)\n",
      "Downloading grpcio-1.73.1-cp312-cp312-manylinux_2_17_x86_64.manylinux2014_x86_64.whl (6.0 MB)\n",
      "\u001b[2K   \u001b[90m━━━━━━━━━━━━━━━━━━━━━━━━━━━━━━━━━━━━━━━━\u001b[0m \u001b[32m6.0/6.0 MB\u001b[0m \u001b[31m125.1 MB/s\u001b[0m eta \u001b[36m0:00:00\u001b[0m\n",
      "Downloading h5py-3.14.0-cp312-cp312-manylinux_2_17_x86_64.manylinux2014_x86_64.whl (4.9 MB)\n",
      "\u001b[2K   \u001b[90m━━━━━━━━━━━━━━━━━━━━━━━━━━━━━━━━━━━━━━━━\u001b[0m \u001b[32m4.9/4.9 MB\u001b[0m \u001b[31m53.9 MB/s\u001b[0m eta \u001b[36m0:00:00\u001b[0m\n",
      "\u001b[?25hDownloading keras-3.10.0-py3-none-any.whl (1.4 MB)\n",
      "\u001b[2K   \u001b[90m━━━━━━━━━━━━━━━━━━━━━━━━━━━━━━━━━━━━━━━━\u001b[0m \u001b[32m1.4/1.4 MB\u001b[0m \u001b[31m50.5 MB/s\u001b[0m eta \u001b[36m0:00:00\u001b[0m\n",
      "\u001b[?25hDownloading libclang-18.1.1-py2.py3-none-manylinux2010_x86_64.whl (24.5 MB)\n",
      "\u001b[2K   \u001b[90m━━━━━━━━━━━━━━━━━━━━━━━━━━━━━━━━━━━━━━━━\u001b[0m \u001b[32m24.5/24.5 MB\u001b[0m \u001b[31m48.6 MB/s\u001b[0m eta \u001b[36m0:00:00\u001b[0m:00:01\u001b[0m\n",
      "\u001b[?25hDownloading ml_dtypes-0.4.1-cp312-cp312-manylinux_2_17_x86_64.manylinux2014_x86_64.whl (2.2 MB)\n",
      "\u001b[2K   \u001b[90m━━━━━━━━━━━━━━━━━━━━━━━━━━━━━━━━━━━━━━━━\u001b[0m \u001b[32m2.2/2.2 MB\u001b[0m \u001b[31m57.0 MB/s\u001b[0m eta \u001b[36m0:00:00\u001b[0m\n",
      "\u001b[?25hDownloading opt_einsum-3.4.0-py3-none-any.whl (71 kB)\n",
      "Downloading protobuf-5.29.5-cp38-abi3-manylinux2014_x86_64.whl (319 kB)\n",
      "Downloading tensorboard-2.18.0-py3-none-any.whl (5.5 MB)\n",
      "\u001b[2K   \u001b[90m━━━━━━━━━━━━━━━━━━━━━━━━━━━━━━━━━━━━━━━━\u001b[0m \u001b[32m5.5/5.5 MB\u001b[0m \u001b[31m53.5 MB/s\u001b[0m eta \u001b[36m0:00:00\u001b[0m\n",
      "\u001b[?25hDownloading termcolor-3.1.0-py3-none-any.whl (7.7 kB)\n",
      "Downloading wrapt-1.17.2-cp312-cp312-manylinux_2_5_x86_64.manylinux1_x86_64.manylinux_2_17_x86_64.manylinux2014_x86_64.whl (89 kB)\n",
      "Downloading markdown-3.8.2-py3-none-any.whl (106 kB)\n",
      "Downloading tensorboard_data_server-0.7.2-py3-none-manylinux_2_31_x86_64.whl (6.6 MB)\n",
      "\u001b[2K   \u001b[90m━━━━━━━━━━━━━━━━━━━━━━━━━━━━━━━━━━━━━━━━\u001b[0m \u001b[32m6.6/6.6 MB\u001b[0m \u001b[31m59.9 MB/s\u001b[0m eta \u001b[36m0:00:00\u001b[0m\n",
      "\u001b[?25hDownloading werkzeug-3.1.3-py3-none-any.whl (224 kB)\n",
      "Downloading namex-0.1.0-py3-none-any.whl (5.9 kB)\n",
      "Downloading optree-0.16.0-cp312-cp312-manylinux_2_17_x86_64.manylinux2014_x86_64.whl (412 kB)\n",
      "Downloading rich-14.0.0-py3-none-any.whl (243 kB)\n",
      "Downloading markdown_it_py-3.0.0-py3-none-any.whl (87 kB)\n",
      "Downloading mdurl-0.1.2-py3-none-any.whl (10.0 kB)\n",
      "Installing collected packages: namex, libclang, flatbuffers, wrapt, werkzeug, termcolor, tensorboard-data-server, protobuf, optree, opt-einsum, ml-dtypes, mdurl, markdown, h5py, grpcio, google-pasta, gast, astunparse, absl-py, tensorboard, markdown-it-py, rich, keras, tensorflow_cpu\n",
      "Successfully installed absl-py-2.3.1 astunparse-1.6.3 flatbuffers-25.2.10 gast-0.6.0 google-pasta-0.2.0 grpcio-1.73.1 h5py-3.14.0 keras-3.10.0 libclang-18.1.1 markdown-3.8.2 markdown-it-py-3.0.0 mdurl-0.1.2 ml-dtypes-0.4.1 namex-0.1.0 opt-einsum-3.4.0 optree-0.16.0 protobuf-5.29.5 rich-14.0.0 tensorboard-2.18.0 tensorboard-data-server-0.7.2 tensorflow_cpu-2.18.0 termcolor-3.1.0 werkzeug-3.1.3 wrapt-1.17.2\n"
     ]
    }
   ],
   "source": [
    "# All Libraries required for this lab are listed below. \n",
    "\n",
    "!pip install numpy==2.0.2\n",
    "!pip install pandas==2.2.2\n",
    "!pip install tensorflow_cpu==2.18.0\n"
   ]
  },
  {
   "cell_type": "markdown",
   "metadata": {},
   "source": [
    "#### To use Keras, you will also need to install a backend framework – such as TensorFlow.\n",
    "\n",
    "If you install TensorFlow 2.16 or above, it will install Keras by default.\n",
    "\n",
    "We are using the CPU version of tensorflow since we are dealing with smaller datasets. \n",
    "You may install the GPU version of tensorflow on your machine to accelarate the processing of larger datasets\n"
   ]
  },
  {
   "cell_type": "markdown",
   "metadata": {},
   "source": [
    "#### Suppress the tensorflow warning messages\n",
    "We use the following code to  suppress the warning messages due to use of CPU architechture for tensoflow.\n",
    "\n",
    "You may want to **comment out** these lines if you are using the GPU architechture\n"
   ]
  },
  {
   "cell_type": "code",
   "execution_count": 2,
   "metadata": {},
   "outputs": [],
   "source": [
    "import os\n",
    "os.environ['TF_ENABLE_ONEDNN_OPTS'] = '0'\n",
    "os.environ['TF_CPP_MIN_LOG_LEVEL'] = '2'"
   ]
  },
  {
   "cell_type": "code",
   "execution_count": null,
   "metadata": {},
   "outputs": [],
   "source": [
    "import pandas as pd\n",
    "import numpy as np\n",
    "import keras\n",
    "\n",
    "import warnings\n",
    "warnings.simplefilter('ignore', FutureWarning)"
   ]
  },
  {
   "cell_type": "code",
   "execution_count": 3,
   "metadata": {},
   "outputs": [],
   "source": [
    "import pandas as pd\n",
    "import numpy as np\n",
    "import keras\n",
    "\n",
    "import warnings\n",
    "warnings.simplefilter('ignore', FutureWarning)"
   ]
  },
  {
   "cell_type": "markdown",
   "metadata": {},
   "source": [
    "We will be playing around with the same dataset that we used in the videos.\n",
    "\n",
    "<strong>The dataset is about the compressive strength of different samples of concrete based on the volumes of the different ingredients that were used to make them. Ingredients include:</strong>\n",
    "\n",
    "* Cement\n",
    "* Blast furnace slag\n",
    "* Fly ash\n",
    "* Water\n",
    "* Superplasticizer\n",
    "* Coarse aggregate\n",
    "* Fine aggregate\n"
   ]
  },
  {
   "cell_type": "markdown",
   "metadata": {},
   "source": [
    "## Download and Clean the Data Set\n"
   ]
  },
  {
   "cell_type": "markdown",
   "metadata": {},
   "source": [
    "Let's download the data and read it into a <em>pandas</em> dataframe.\n"
   ]
  },
  {
   "cell_type": "code",
   "execution_count": 4,
   "metadata": {},
   "outputs": [
    {
     "data": {
      "text/html": [
       "<div>\n",
       "<style scoped>\n",
       "    .dataframe tbody tr th:only-of-type {\n",
       "        vertical-align: middle;\n",
       "    }\n",
       "\n",
       "    .dataframe tbody tr th {\n",
       "        vertical-align: top;\n",
       "    }\n",
       "\n",
       "    .dataframe thead th {\n",
       "        text-align: right;\n",
       "    }\n",
       "</style>\n",
       "<table border=\"1\" class=\"dataframe\">\n",
       "  <thead>\n",
       "    <tr style=\"text-align: right;\">\n",
       "      <th></th>\n",
       "      <th>Cement</th>\n",
       "      <th>Blast Furnace Slag</th>\n",
       "      <th>Fly Ash</th>\n",
       "      <th>Water</th>\n",
       "      <th>Superplasticizer</th>\n",
       "      <th>Coarse Aggregate</th>\n",
       "      <th>Fine Aggregate</th>\n",
       "      <th>Age</th>\n",
       "      <th>Strength</th>\n",
       "    </tr>\n",
       "  </thead>\n",
       "  <tbody>\n",
       "    <tr>\n",
       "      <th>0</th>\n",
       "      <td>540.0</td>\n",
       "      <td>0.0</td>\n",
       "      <td>0.0</td>\n",
       "      <td>162.0</td>\n",
       "      <td>2.5</td>\n",
       "      <td>1040.0</td>\n",
       "      <td>676.0</td>\n",
       "      <td>28</td>\n",
       "      <td>79.99</td>\n",
       "    </tr>\n",
       "    <tr>\n",
       "      <th>1</th>\n",
       "      <td>540.0</td>\n",
       "      <td>0.0</td>\n",
       "      <td>0.0</td>\n",
       "      <td>162.0</td>\n",
       "      <td>2.5</td>\n",
       "      <td>1055.0</td>\n",
       "      <td>676.0</td>\n",
       "      <td>28</td>\n",
       "      <td>61.89</td>\n",
       "    </tr>\n",
       "    <tr>\n",
       "      <th>2</th>\n",
       "      <td>332.5</td>\n",
       "      <td>142.5</td>\n",
       "      <td>0.0</td>\n",
       "      <td>228.0</td>\n",
       "      <td>0.0</td>\n",
       "      <td>932.0</td>\n",
       "      <td>594.0</td>\n",
       "      <td>270</td>\n",
       "      <td>40.27</td>\n",
       "    </tr>\n",
       "    <tr>\n",
       "      <th>3</th>\n",
       "      <td>332.5</td>\n",
       "      <td>142.5</td>\n",
       "      <td>0.0</td>\n",
       "      <td>228.0</td>\n",
       "      <td>0.0</td>\n",
       "      <td>932.0</td>\n",
       "      <td>594.0</td>\n",
       "      <td>365</td>\n",
       "      <td>41.05</td>\n",
       "    </tr>\n",
       "    <tr>\n",
       "      <th>4</th>\n",
       "      <td>198.6</td>\n",
       "      <td>132.4</td>\n",
       "      <td>0.0</td>\n",
       "      <td>192.0</td>\n",
       "      <td>0.0</td>\n",
       "      <td>978.4</td>\n",
       "      <td>825.5</td>\n",
       "      <td>360</td>\n",
       "      <td>44.30</td>\n",
       "    </tr>\n",
       "  </tbody>\n",
       "</table>\n",
       "</div>"
      ],
      "text/plain": [
       "   Cement  Blast Furnace Slag  Fly Ash  Water  Superplasticizer  \\\n",
       "0   540.0                 0.0      0.0  162.0               2.5   \n",
       "1   540.0                 0.0      0.0  162.0               2.5   \n",
       "2   332.5               142.5      0.0  228.0               0.0   \n",
       "3   332.5               142.5      0.0  228.0               0.0   \n",
       "4   198.6               132.4      0.0  192.0               0.0   \n",
       "\n",
       "   Coarse Aggregate  Fine Aggregate  Age  Strength  \n",
       "0            1040.0           676.0   28     79.99  \n",
       "1            1055.0           676.0   28     61.89  \n",
       "2             932.0           594.0  270     40.27  \n",
       "3             932.0           594.0  365     41.05  \n",
       "4             978.4           825.5  360     44.30  "
      ]
     },
     "execution_count": 4,
     "metadata": {},
     "output_type": "execute_result"
    }
   ],
   "source": [
    "filepath='https://s3-api.us-geo.objectstorage.softlayer.net/cf-courses-data/CognitiveClass/DL0101EN/labs/data/concrete_data.csv'\n",
    "concrete_data = pd.read_csv(filepath)\n",
    "\n",
    "concrete_data.head()"
   ]
  },
  {
   "cell_type": "markdown",
   "metadata": {},
   "source": [
    "So the first concrete sample has 540 cubic meter of cement, 0 cubic meter of blast furnace slag, 0 cubic meter of fly ash, 162 cubic meter of water, 2.5 cubic meter of superplaticizer, 1040 cubic meter of coarse aggregate, 676 cubic meter of fine aggregate. Such a concrete mix which is 28 days old, has a compressive strength of 79.99 MPa. \n"
   ]
  },
  {
   "cell_type": "markdown",
   "metadata": {},
   "source": [
    "#### Let's check how many data points we have\n"
   ]
  },
  {
   "cell_type": "code",
   "execution_count": 5,
   "metadata": {},
   "outputs": [
    {
     "data": {
      "text/plain": [
       "(1030, 9)"
      ]
     },
     "execution_count": 5,
     "metadata": {},
     "output_type": "execute_result"
    }
   ],
   "source": [
    "concrete_data.shape"
   ]
  },
  {
   "cell_type": "markdown",
   "metadata": {},
   "source": [
    "So, there are approximately 1000 samples to train our model on. Because of the few samples, we have to be careful not to overfit the training data.\n"
   ]
  },
  {
   "cell_type": "markdown",
   "metadata": {},
   "source": [
    "Let's check the dataset for any missing values.\n"
   ]
  },
  {
   "cell_type": "code",
   "execution_count": 6,
   "metadata": {},
   "outputs": [
    {
     "data": {
      "text/html": [
       "<div>\n",
       "<style scoped>\n",
       "    .dataframe tbody tr th:only-of-type {\n",
       "        vertical-align: middle;\n",
       "    }\n",
       "\n",
       "    .dataframe tbody tr th {\n",
       "        vertical-align: top;\n",
       "    }\n",
       "\n",
       "    .dataframe thead th {\n",
       "        text-align: right;\n",
       "    }\n",
       "</style>\n",
       "<table border=\"1\" class=\"dataframe\">\n",
       "  <thead>\n",
       "    <tr style=\"text-align: right;\">\n",
       "      <th></th>\n",
       "      <th>Cement</th>\n",
       "      <th>Blast Furnace Slag</th>\n",
       "      <th>Fly Ash</th>\n",
       "      <th>Water</th>\n",
       "      <th>Superplasticizer</th>\n",
       "      <th>Coarse Aggregate</th>\n",
       "      <th>Fine Aggregate</th>\n",
       "      <th>Age</th>\n",
       "      <th>Strength</th>\n",
       "    </tr>\n",
       "  </thead>\n",
       "  <tbody>\n",
       "    <tr>\n",
       "      <th>count</th>\n",
       "      <td>1030.000000</td>\n",
       "      <td>1030.000000</td>\n",
       "      <td>1030.000000</td>\n",
       "      <td>1030.000000</td>\n",
       "      <td>1030.000000</td>\n",
       "      <td>1030.000000</td>\n",
       "      <td>1030.000000</td>\n",
       "      <td>1030.000000</td>\n",
       "      <td>1030.000000</td>\n",
       "    </tr>\n",
       "    <tr>\n",
       "      <th>mean</th>\n",
       "      <td>281.167864</td>\n",
       "      <td>73.895825</td>\n",
       "      <td>54.188350</td>\n",
       "      <td>181.567282</td>\n",
       "      <td>6.204660</td>\n",
       "      <td>972.918932</td>\n",
       "      <td>773.580485</td>\n",
       "      <td>45.662136</td>\n",
       "      <td>35.817961</td>\n",
       "    </tr>\n",
       "    <tr>\n",
       "      <th>std</th>\n",
       "      <td>104.506364</td>\n",
       "      <td>86.279342</td>\n",
       "      <td>63.997004</td>\n",
       "      <td>21.354219</td>\n",
       "      <td>5.973841</td>\n",
       "      <td>77.753954</td>\n",
       "      <td>80.175980</td>\n",
       "      <td>63.169912</td>\n",
       "      <td>16.705742</td>\n",
       "    </tr>\n",
       "    <tr>\n",
       "      <th>min</th>\n",
       "      <td>102.000000</td>\n",
       "      <td>0.000000</td>\n",
       "      <td>0.000000</td>\n",
       "      <td>121.800000</td>\n",
       "      <td>0.000000</td>\n",
       "      <td>801.000000</td>\n",
       "      <td>594.000000</td>\n",
       "      <td>1.000000</td>\n",
       "      <td>2.330000</td>\n",
       "    </tr>\n",
       "    <tr>\n",
       "      <th>25%</th>\n",
       "      <td>192.375000</td>\n",
       "      <td>0.000000</td>\n",
       "      <td>0.000000</td>\n",
       "      <td>164.900000</td>\n",
       "      <td>0.000000</td>\n",
       "      <td>932.000000</td>\n",
       "      <td>730.950000</td>\n",
       "      <td>7.000000</td>\n",
       "      <td>23.710000</td>\n",
       "    </tr>\n",
       "    <tr>\n",
       "      <th>50%</th>\n",
       "      <td>272.900000</td>\n",
       "      <td>22.000000</td>\n",
       "      <td>0.000000</td>\n",
       "      <td>185.000000</td>\n",
       "      <td>6.400000</td>\n",
       "      <td>968.000000</td>\n",
       "      <td>779.500000</td>\n",
       "      <td>28.000000</td>\n",
       "      <td>34.445000</td>\n",
       "    </tr>\n",
       "    <tr>\n",
       "      <th>75%</th>\n",
       "      <td>350.000000</td>\n",
       "      <td>142.950000</td>\n",
       "      <td>118.300000</td>\n",
       "      <td>192.000000</td>\n",
       "      <td>10.200000</td>\n",
       "      <td>1029.400000</td>\n",
       "      <td>824.000000</td>\n",
       "      <td>56.000000</td>\n",
       "      <td>46.135000</td>\n",
       "    </tr>\n",
       "    <tr>\n",
       "      <th>max</th>\n",
       "      <td>540.000000</td>\n",
       "      <td>359.400000</td>\n",
       "      <td>200.100000</td>\n",
       "      <td>247.000000</td>\n",
       "      <td>32.200000</td>\n",
       "      <td>1145.000000</td>\n",
       "      <td>992.600000</td>\n",
       "      <td>365.000000</td>\n",
       "      <td>82.600000</td>\n",
       "    </tr>\n",
       "  </tbody>\n",
       "</table>\n",
       "</div>"
      ],
      "text/plain": [
       "            Cement  Blast Furnace Slag      Fly Ash        Water  \\\n",
       "count  1030.000000         1030.000000  1030.000000  1030.000000   \n",
       "mean    281.167864           73.895825    54.188350   181.567282   \n",
       "std     104.506364           86.279342    63.997004    21.354219   \n",
       "min     102.000000            0.000000     0.000000   121.800000   \n",
       "25%     192.375000            0.000000     0.000000   164.900000   \n",
       "50%     272.900000           22.000000     0.000000   185.000000   \n",
       "75%     350.000000          142.950000   118.300000   192.000000   \n",
       "max     540.000000          359.400000   200.100000   247.000000   \n",
       "\n",
       "       Superplasticizer  Coarse Aggregate  Fine Aggregate          Age  \\\n",
       "count       1030.000000       1030.000000     1030.000000  1030.000000   \n",
       "mean           6.204660        972.918932      773.580485    45.662136   \n",
       "std            5.973841         77.753954       80.175980    63.169912   \n",
       "min            0.000000        801.000000      594.000000     1.000000   \n",
       "25%            0.000000        932.000000      730.950000     7.000000   \n",
       "50%            6.400000        968.000000      779.500000    28.000000   \n",
       "75%           10.200000       1029.400000      824.000000    56.000000   \n",
       "max           32.200000       1145.000000      992.600000   365.000000   \n",
       "\n",
       "          Strength  \n",
       "count  1030.000000  \n",
       "mean     35.817961  \n",
       "std      16.705742  \n",
       "min       2.330000  \n",
       "25%      23.710000  \n",
       "50%      34.445000  \n",
       "75%      46.135000  \n",
       "max      82.600000  "
      ]
     },
     "execution_count": 6,
     "metadata": {},
     "output_type": "execute_result"
    }
   ],
   "source": [
    "concrete_data.describe()"
   ]
  },
  {
   "cell_type": "code",
   "execution_count": 9,
   "metadata": {},
   "outputs": [
    {
     "data": {
      "text/plain": [
       "Cement                0\n",
       "Blast Furnace Slag    0\n",
       "Fly Ash               0\n",
       "Water                 0\n",
       "Superplasticizer      0\n",
       "Coarse Aggregate      0\n",
       "Fine Aggregate        0\n",
       "Age                   0\n",
       "Strength              0\n",
       "dtype: int64"
      ]
     },
     "execution_count": 9,
     "metadata": {},
     "output_type": "execute_result"
    }
   ],
   "source": [
    "concrete_data.isnull().sum()"
   ]
  },
  {
   "cell_type": "markdown",
   "metadata": {},
   "source": [
    "The data looks very clean and is ready to be used to build our model.\n"
   ]
  },
  {
   "cell_type": "markdown",
   "metadata": {},
   "source": [
    "#### Split data into predictors and target\n"
   ]
  },
  {
   "cell_type": "markdown",
   "metadata": {},
   "source": [
    "The target variable in this problem is the concrete sample strength. Therefore, our predictors will be all the other columns.\n"
   ]
  },
  {
   "cell_type": "code",
   "execution_count": 10,
   "metadata": {},
   "outputs": [],
   "source": [
    "concrete_data_columns = concrete_data.columns"
   ]
  },
  {
   "cell_type": "code",
   "execution_count": 13,
   "metadata": {},
   "outputs": [
    {
     "name": "stdout",
     "output_type": "stream",
     "text": [
      "      Cement  Blast Furnace Slag  Fly Ash  Water  Superplasticizer  \\\n",
      "0      540.0                 0.0      0.0  162.0               2.5   \n",
      "1      540.0                 0.0      0.0  162.0               2.5   \n",
      "2      332.5               142.5      0.0  228.0               0.0   \n",
      "3      332.5               142.5      0.0  228.0               0.0   \n",
      "4      198.6               132.4      0.0  192.0               0.0   \n",
      "...      ...                 ...      ...    ...               ...   \n",
      "1025   276.4               116.0     90.3  179.6               8.9   \n",
      "1026   322.2                 0.0    115.6  196.0              10.4   \n",
      "1027   148.5               139.4    108.6  192.7               6.1   \n",
      "1028   159.1               186.7      0.0  175.6              11.3   \n",
      "1029   260.9               100.5     78.3  200.6               8.6   \n",
      "\n",
      "      Coarse Aggregate  Fine Aggregate  Age  \n",
      "0               1040.0           676.0   28  \n",
      "1               1055.0           676.0   28  \n",
      "2                932.0           594.0  270  \n",
      "3                932.0           594.0  365  \n",
      "4                978.4           825.5  360  \n",
      "...                ...             ...  ...  \n",
      "1025             870.1           768.3   28  \n",
      "1026             817.9           813.4   28  \n",
      "1027             892.4           780.0   28  \n",
      "1028             989.6           788.9   28  \n",
      "1029             864.5           761.5   28  \n",
      "\n",
      "[1030 rows x 8 columns]\n",
      "0       79.99\n",
      "1       61.89\n",
      "2       40.27\n",
      "3       41.05\n",
      "4       44.30\n",
      "        ...  \n",
      "1025    44.28\n",
      "1026    31.18\n",
      "1027    23.70\n",
      "1028    32.77\n",
      "1029    32.40\n",
      "Name: Strength, Length: 1030, dtype: float64\n"
     ]
    }
   ],
   "source": [
    "predictors = concrete_data[concrete_data_columns[concrete_data_columns != 'Strength']]\n",
    "target = concrete_data['Strength']\n",
    "print(predictors)\n",
    "print(target)"
   ]
  },
  {
   "cell_type": "code",
   "execution_count": null,
   "metadata": {},
   "outputs": [],
   "source": [
    "predictors = concrete_data[concrete_data_columns[concrete_data_columns != 'Strength']] # all columns except Strength\n",
    "target = concrete_data['Strength'] # Strength column"
   ]
  },
  {
   "cell_type": "markdown",
   "metadata": {},
   "source": [
    "<a id=\"item2\"></a>\n"
   ]
  },
  {
   "cell_type": "markdown",
   "metadata": {},
   "source": [
    "Let's do a quick sanity check of the predictors and the target dataframes.\n"
   ]
  },
  {
   "cell_type": "code",
   "execution_count": 14,
   "metadata": {},
   "outputs": [
    {
     "data": {
      "text/html": [
       "<div>\n",
       "<style scoped>\n",
       "    .dataframe tbody tr th:only-of-type {\n",
       "        vertical-align: middle;\n",
       "    }\n",
       "\n",
       "    .dataframe tbody tr th {\n",
       "        vertical-align: top;\n",
       "    }\n",
       "\n",
       "    .dataframe thead th {\n",
       "        text-align: right;\n",
       "    }\n",
       "</style>\n",
       "<table border=\"1\" class=\"dataframe\">\n",
       "  <thead>\n",
       "    <tr style=\"text-align: right;\">\n",
       "      <th></th>\n",
       "      <th>Cement</th>\n",
       "      <th>Blast Furnace Slag</th>\n",
       "      <th>Fly Ash</th>\n",
       "      <th>Water</th>\n",
       "      <th>Superplasticizer</th>\n",
       "      <th>Coarse Aggregate</th>\n",
       "      <th>Fine Aggregate</th>\n",
       "      <th>Age</th>\n",
       "    </tr>\n",
       "  </thead>\n",
       "  <tbody>\n",
       "    <tr>\n",
       "      <th>0</th>\n",
       "      <td>540.0</td>\n",
       "      <td>0.0</td>\n",
       "      <td>0.0</td>\n",
       "      <td>162.0</td>\n",
       "      <td>2.5</td>\n",
       "      <td>1040.0</td>\n",
       "      <td>676.0</td>\n",
       "      <td>28</td>\n",
       "    </tr>\n",
       "    <tr>\n",
       "      <th>1</th>\n",
       "      <td>540.0</td>\n",
       "      <td>0.0</td>\n",
       "      <td>0.0</td>\n",
       "      <td>162.0</td>\n",
       "      <td>2.5</td>\n",
       "      <td>1055.0</td>\n",
       "      <td>676.0</td>\n",
       "      <td>28</td>\n",
       "    </tr>\n",
       "    <tr>\n",
       "      <th>2</th>\n",
       "      <td>332.5</td>\n",
       "      <td>142.5</td>\n",
       "      <td>0.0</td>\n",
       "      <td>228.0</td>\n",
       "      <td>0.0</td>\n",
       "      <td>932.0</td>\n",
       "      <td>594.0</td>\n",
       "      <td>270</td>\n",
       "    </tr>\n",
       "    <tr>\n",
       "      <th>3</th>\n",
       "      <td>332.5</td>\n",
       "      <td>142.5</td>\n",
       "      <td>0.0</td>\n",
       "      <td>228.0</td>\n",
       "      <td>0.0</td>\n",
       "      <td>932.0</td>\n",
       "      <td>594.0</td>\n",
       "      <td>365</td>\n",
       "    </tr>\n",
       "    <tr>\n",
       "      <th>4</th>\n",
       "      <td>198.6</td>\n",
       "      <td>132.4</td>\n",
       "      <td>0.0</td>\n",
       "      <td>192.0</td>\n",
       "      <td>0.0</td>\n",
       "      <td>978.4</td>\n",
       "      <td>825.5</td>\n",
       "      <td>360</td>\n",
       "    </tr>\n",
       "  </tbody>\n",
       "</table>\n",
       "</div>"
      ],
      "text/plain": [
       "   Cement  Blast Furnace Slag  Fly Ash  Water  Superplasticizer  \\\n",
       "0   540.0                 0.0      0.0  162.0               2.5   \n",
       "1   540.0                 0.0      0.0  162.0               2.5   \n",
       "2   332.5               142.5      0.0  228.0               0.0   \n",
       "3   332.5               142.5      0.0  228.0               0.0   \n",
       "4   198.6               132.4      0.0  192.0               0.0   \n",
       "\n",
       "   Coarse Aggregate  Fine Aggregate  Age  \n",
       "0            1040.0           676.0   28  \n",
       "1            1055.0           676.0   28  \n",
       "2             932.0           594.0  270  \n",
       "3             932.0           594.0  365  \n",
       "4             978.4           825.5  360  "
      ]
     },
     "execution_count": 14,
     "metadata": {},
     "output_type": "execute_result"
    }
   ],
   "source": [
    "predictors.head()"
   ]
  },
  {
   "cell_type": "code",
   "execution_count": 15,
   "metadata": {},
   "outputs": [
    {
     "data": {
      "text/plain": [
       "0    79.99\n",
       "1    61.89\n",
       "2    40.27\n",
       "3    41.05\n",
       "4    44.30\n",
       "Name: Strength, dtype: float64"
      ]
     },
     "execution_count": 15,
     "metadata": {},
     "output_type": "execute_result"
    }
   ],
   "source": [
    "target.head()"
   ]
  },
  {
   "cell_type": "markdown",
   "metadata": {},
   "source": [
    "Finally, the last step is to normalize the data by substracting the mean and dividing by the standard deviation.\n"
   ]
  },
  {
   "cell_type": "code",
   "execution_count": 16,
   "metadata": {},
   "outputs": [
    {
     "data": {
      "text/html": [
       "<div>\n",
       "<style scoped>\n",
       "    .dataframe tbody tr th:only-of-type {\n",
       "        vertical-align: middle;\n",
       "    }\n",
       "\n",
       "    .dataframe tbody tr th {\n",
       "        vertical-align: top;\n",
       "    }\n",
       "\n",
       "    .dataframe thead th {\n",
       "        text-align: right;\n",
       "    }\n",
       "</style>\n",
       "<table border=\"1\" class=\"dataframe\">\n",
       "  <thead>\n",
       "    <tr style=\"text-align: right;\">\n",
       "      <th></th>\n",
       "      <th>Cement</th>\n",
       "      <th>Blast Furnace Slag</th>\n",
       "      <th>Fly Ash</th>\n",
       "      <th>Water</th>\n",
       "      <th>Superplasticizer</th>\n",
       "      <th>Coarse Aggregate</th>\n",
       "      <th>Fine Aggregate</th>\n",
       "      <th>Age</th>\n",
       "    </tr>\n",
       "  </thead>\n",
       "  <tbody>\n",
       "    <tr>\n",
       "      <th>0</th>\n",
       "      <td>2.476712</td>\n",
       "      <td>-0.856472</td>\n",
       "      <td>-0.846733</td>\n",
       "      <td>-0.916319</td>\n",
       "      <td>-0.620147</td>\n",
       "      <td>0.862735</td>\n",
       "      <td>-1.217079</td>\n",
       "      <td>-0.279597</td>\n",
       "    </tr>\n",
       "    <tr>\n",
       "      <th>1</th>\n",
       "      <td>2.476712</td>\n",
       "      <td>-0.856472</td>\n",
       "      <td>-0.846733</td>\n",
       "      <td>-0.916319</td>\n",
       "      <td>-0.620147</td>\n",
       "      <td>1.055651</td>\n",
       "      <td>-1.217079</td>\n",
       "      <td>-0.279597</td>\n",
       "    </tr>\n",
       "    <tr>\n",
       "      <th>2</th>\n",
       "      <td>0.491187</td>\n",
       "      <td>0.795140</td>\n",
       "      <td>-0.846733</td>\n",
       "      <td>2.174405</td>\n",
       "      <td>-1.038638</td>\n",
       "      <td>-0.526262</td>\n",
       "      <td>-2.239829</td>\n",
       "      <td>3.551340</td>\n",
       "    </tr>\n",
       "    <tr>\n",
       "      <th>3</th>\n",
       "      <td>0.491187</td>\n",
       "      <td>0.795140</td>\n",
       "      <td>-0.846733</td>\n",
       "      <td>2.174405</td>\n",
       "      <td>-1.038638</td>\n",
       "      <td>-0.526262</td>\n",
       "      <td>-2.239829</td>\n",
       "      <td>5.055221</td>\n",
       "    </tr>\n",
       "    <tr>\n",
       "      <th>4</th>\n",
       "      <td>-0.790075</td>\n",
       "      <td>0.678079</td>\n",
       "      <td>-0.846733</td>\n",
       "      <td>0.488555</td>\n",
       "      <td>-1.038638</td>\n",
       "      <td>0.070492</td>\n",
       "      <td>0.647569</td>\n",
       "      <td>4.976069</td>\n",
       "    </tr>\n",
       "  </tbody>\n",
       "</table>\n",
       "</div>"
      ],
      "text/plain": [
       "     Cement  Blast Furnace Slag   Fly Ash     Water  Superplasticizer  \\\n",
       "0  2.476712           -0.856472 -0.846733 -0.916319         -0.620147   \n",
       "1  2.476712           -0.856472 -0.846733 -0.916319         -0.620147   \n",
       "2  0.491187            0.795140 -0.846733  2.174405         -1.038638   \n",
       "3  0.491187            0.795140 -0.846733  2.174405         -1.038638   \n",
       "4 -0.790075            0.678079 -0.846733  0.488555         -1.038638   \n",
       "\n",
       "   Coarse Aggregate  Fine Aggregate       Age  \n",
       "0          0.862735       -1.217079 -0.279597  \n",
       "1          1.055651       -1.217079 -0.279597  \n",
       "2         -0.526262       -2.239829  3.551340  \n",
       "3         -0.526262       -2.239829  5.055221  \n",
       "4          0.070492        0.647569  4.976069  "
      ]
     },
     "execution_count": 16,
     "metadata": {},
     "output_type": "execute_result"
    }
   ],
   "source": [
    "predictors_norm = (predictors - predictors.mean()) / predictors.std()\n",
    "predictors_norm.head()"
   ]
  },
  {
   "cell_type": "markdown",
   "metadata": {},
   "source": [
    "Let's save the number of predictors to *n_cols* since we will need this number when building our network.\n"
   ]
  },
  {
   "cell_type": "code",
   "execution_count": 17,
   "metadata": {},
   "outputs": [
    {
     "name": "stdout",
     "output_type": "stream",
     "text": [
      "8\n"
     ]
    }
   ],
   "source": [
    "n_cols = predictors_norm.shape[1] # number of predictors\n",
    "print(n_cols)"
   ]
  },
  {
   "cell_type": "markdown",
   "metadata": {},
   "source": [
    "<a id=\"item1\"></a>\n"
   ]
  },
  {
   "cell_type": "markdown",
   "metadata": {},
   "source": [
    "##  Import Keras Packages\n",
    "\n",
    "##### Let's import the rest of the packages from the Keras library that we will need to build our regression model.\n"
   ]
  },
  {
   "cell_type": "code",
   "execution_count": 18,
   "metadata": {},
   "outputs": [],
   "source": [
    "from keras.models import Sequential\n",
    "from keras.layers import Dense\n",
    "from keras.layers import Input\n"
   ]
  },
  {
   "cell_type": "code",
   "execution_count": null,
   "metadata": {},
   "outputs": [],
   "source": [
    "from keras.models import Sequential\n",
    "from keras.layers import Dense\n",
    "from keras.layers import Input"
   ]
  },
  {
   "cell_type": "markdown",
   "metadata": {},
   "source": [
    "## Build a Neural Network\n"
   ]
  },
  {
   "cell_type": "markdown",
   "metadata": {},
   "source": [
    "Let's define a function that defines our regression model for us so that we can conveniently call it to create our model.\n"
   ]
  },
  {
   "cell_type": "code",
   "execution_count": 30,
   "metadata": {},
   "outputs": [],
   "source": [
    "# define regression model\n",
    "def regression_model():\n",
    "    # create model\n",
    "    model = Sequential()\n",
    "    model.add(Input(shape=(n_cols,)))\n",
    "    model.add(Dense(50, activation='relu'))\n",
    "    model.add(Dense(50, activation='relu'))\n",
    "    model.add(Dense(1))\n",
    "    \n",
    "    # compile model\n",
    "    model.compile(optimizer='adam', loss='mean_squared_error')\n",
    "    return model"
   ]
  },
  {
   "cell_type": "markdown",
   "metadata": {},
   "source": [
    "The above function create a model that has two hidden layers, each of 50 hidden units.\n"
   ]
  },
  {
   "cell_type": "markdown",
   "metadata": {},
   "source": [
    "## Train and Test the Network\n"
   ]
  },
  {
   "cell_type": "markdown",
   "metadata": {},
   "source": [
    "Let's call the function now to create our model.\n"
   ]
  },
  {
   "cell_type": "code",
   "execution_count": 19,
   "metadata": {},
   "outputs": [],
   "source": []
  },
  {
   "cell_type": "code",
   "execution_count": 21,
   "metadata": {},
   "outputs": [],
   "source": [
    "# build the model\n",
    "model = regression_model()"
   ]
  },
  {
   "cell_type": "markdown",
   "metadata": {},
   "source": [
    "Next, we will train and test the model at the same time using the *fit* method. We will leave out 30% of the data for validation and we will train the model for 100 epochs.\n"
   ]
  },
  {
   "cell_type": "code",
   "execution_count": 22,
   "metadata": {},
   "outputs": [
    {
     "name": "stdout",
     "output_type": "stream",
     "text": [
      "Epoch 1/100\n",
      "23/23 - 3s - 134ms/step - loss: 1653.7129 - val_loss: 1147.8193\n",
      "Epoch 2/100\n",
      "23/23 - 1s - 24ms/step - loss: 1530.3479 - val_loss: 1029.1249\n",
      "Epoch 3/100\n",
      "23/23 - 0s - 14ms/step - loss: 1336.9999 - val_loss: 852.8237\n",
      "Epoch 4/100\n",
      "23/23 - 0s - 17ms/step - loss: 1054.7208 - val_loss: 630.3201\n",
      "Epoch 5/100\n",
      "23/23 - 0s - 16ms/step - loss: 708.5420 - val_loss: 406.9230\n",
      "Epoch 6/100\n",
      "23/23 - 0s - 17ms/step - loss: 410.8949 - val_loss: 252.9820\n",
      "Epoch 7/100\n",
      "23/23 - 1s - 23ms/step - loss: 259.6664 - val_loss: 189.1382\n",
      "Epoch 8/100\n",
      "23/23 - 0s - 13ms/step - loss: 224.1411 - val_loss: 168.5371\n",
      "Epoch 9/100\n",
      "23/23 - 0s - 15ms/step - loss: 212.0816 - val_loss: 163.8619\n",
      "Epoch 10/100\n",
      "23/23 - 0s - 17ms/step - loss: 202.1688 - val_loss: 160.3711\n",
      "Epoch 11/100\n",
      "23/23 - 1s - 25ms/step - loss: 194.2710 - val_loss: 155.2347\n",
      "Epoch 12/100\n",
      "23/23 - 0s - 19ms/step - loss: 188.5467 - val_loss: 154.0382\n",
      "Epoch 13/100\n",
      "23/23 - 0s - 19ms/step - loss: 183.3446 - val_loss: 152.8256\n",
      "Epoch 14/100\n",
      "23/23 - 0s - 18ms/step - loss: 178.4565 - val_loss: 151.6219\n",
      "Epoch 15/100\n",
      "23/23 - 1s - 25ms/step - loss: 174.2014 - val_loss: 150.3191\n",
      "Epoch 16/100\n",
      "23/23 - 0s - 15ms/step - loss: 170.3338 - val_loss: 150.3794\n",
      "Epoch 17/100\n",
      "23/23 - 0s - 16ms/step - loss: 166.2848 - val_loss: 147.5051\n",
      "Epoch 18/100\n",
      "23/23 - 0s - 14ms/step - loss: 162.8560 - val_loss: 149.1605\n",
      "Epoch 19/100\n",
      "23/23 - 0s - 18ms/step - loss: 159.7216 - val_loss: 148.2700\n",
      "Epoch 20/100\n",
      "23/23 - 0s - 19ms/step - loss: 156.3515 - val_loss: 148.2211\n",
      "Epoch 21/100\n",
      "23/23 - 0s - 15ms/step - loss: 153.0777 - val_loss: 147.1282\n",
      "Epoch 22/100\n",
      "23/23 - 0s - 12ms/step - loss: 149.9971 - val_loss: 147.2115\n",
      "Epoch 23/100\n",
      "23/23 - 0s - 16ms/step - loss: 146.5993 - val_loss: 149.0161\n",
      "Epoch 24/100\n",
      "23/23 - 0s - 18ms/step - loss: 143.5984 - val_loss: 148.1652\n",
      "Epoch 25/100\n",
      "23/23 - 0s - 18ms/step - loss: 140.3831 - val_loss: 148.2492\n",
      "Epoch 26/100\n",
      "23/23 - 0s - 15ms/step - loss: 137.5180 - val_loss: 147.8552\n",
      "Epoch 27/100\n",
      "23/23 - 0s - 15ms/step - loss: 134.2095 - val_loss: 150.5927\n",
      "Epoch 28/100\n",
      "23/23 - 0s - 17ms/step - loss: 131.3486 - val_loss: 145.7593\n",
      "Epoch 29/100\n",
      "23/23 - 0s - 18ms/step - loss: 128.0703 - val_loss: 147.2706\n",
      "Epoch 30/100\n",
      "23/23 - 0s - 17ms/step - loss: 125.0459 - val_loss: 149.5524\n",
      "Epoch 31/100\n",
      "23/23 - 0s - 14ms/step - loss: 120.8808 - val_loss: 150.7655\n",
      "Epoch 32/100\n",
      "23/23 - 0s - 16ms/step - loss: 117.7699 - val_loss: 150.1488\n",
      "Epoch 33/100\n",
      "23/23 - 0s - 17ms/step - loss: 113.6718 - val_loss: 152.3004\n",
      "Epoch 34/100\n",
      "23/23 - 0s - 18ms/step - loss: 110.7503 - val_loss: 151.1724\n",
      "Epoch 35/100\n",
      "23/23 - 0s - 16ms/step - loss: 107.2510 - val_loss: 153.3425\n",
      "Epoch 36/100\n",
      "23/23 - 0s - 17ms/step - loss: 103.6190 - val_loss: 153.0958\n",
      "Epoch 37/100\n",
      "23/23 - 0s - 16ms/step - loss: 101.6203 - val_loss: 152.5052\n",
      "Epoch 38/100\n",
      "23/23 - 0s - 15ms/step - loss: 97.8587 - val_loss: 156.7762\n",
      "Epoch 39/100\n",
      "23/23 - 0s - 20ms/step - loss: 95.1166 - val_loss: 153.5711\n",
      "Epoch 40/100\n",
      "23/23 - 1s - 25ms/step - loss: 91.7771 - val_loss: 158.4123\n",
      "Epoch 41/100\n",
      "23/23 - 0s - 14ms/step - loss: 89.0836 - val_loss: 161.3057\n",
      "Epoch 42/100\n",
      "23/23 - 0s - 16ms/step - loss: 86.2190 - val_loss: 158.8383\n",
      "Epoch 43/100\n",
      "23/23 - 1s - 25ms/step - loss: 83.5527 - val_loss: 165.4899\n",
      "Epoch 44/100\n",
      "23/23 - 0s - 17ms/step - loss: 81.6028 - val_loss: 161.7410\n",
      "Epoch 45/100\n",
      "23/23 - 0s - 14ms/step - loss: 78.8736 - val_loss: 164.9434\n",
      "Epoch 46/100\n",
      "23/23 - 1s - 22ms/step - loss: 76.5435 - val_loss: 161.5996\n",
      "Epoch 47/100\n",
      "23/23 - 1s - 22ms/step - loss: 74.7152 - val_loss: 166.7301\n",
      "Epoch 48/100\n",
      "23/23 - 0s - 19ms/step - loss: 72.6722 - val_loss: 166.4109\n",
      "Epoch 49/100\n",
      "23/23 - 0s - 21ms/step - loss: 70.5866 - val_loss: 170.1696\n",
      "Epoch 50/100\n",
      "23/23 - 0s - 13ms/step - loss: 68.9685 - val_loss: 170.7707\n",
      "Epoch 51/100\n",
      "23/23 - 0s - 15ms/step - loss: 66.8794 - val_loss: 172.0893\n",
      "Epoch 52/100\n",
      "23/23 - 0s - 21ms/step - loss: 66.3717 - val_loss: 164.9773\n",
      "Epoch 53/100\n",
      "23/23 - 0s - 16ms/step - loss: 63.8732 - val_loss: 169.7883\n",
      "Epoch 54/100\n",
      "23/23 - 0s - 15ms/step - loss: 62.3842 - val_loss: 171.7300\n",
      "Epoch 55/100\n",
      "23/23 - 1s - 24ms/step - loss: 60.8673 - val_loss: 168.4347\n",
      "Epoch 56/100\n",
      "23/23 - 0s - 20ms/step - loss: 60.0755 - val_loss: 180.4242\n",
      "Epoch 57/100\n",
      "23/23 - 0s - 20ms/step - loss: 57.7608 - val_loss: 164.8629\n",
      "Epoch 58/100\n",
      "23/23 - 1s - 22ms/step - loss: 56.3656 - val_loss: 171.8008\n",
      "Epoch 59/100\n",
      "23/23 - 0s - 13ms/step - loss: 55.4967 - val_loss: 166.6214\n",
      "Epoch 60/100\n",
      "23/23 - 0s - 15ms/step - loss: 54.1131 - val_loss: 177.4348\n",
      "Epoch 61/100\n",
      "23/23 - 1s - 26ms/step - loss: 53.5801 - val_loss: 174.3179\n",
      "Epoch 62/100\n",
      "23/23 - 0s - 16ms/step - loss: 52.7856 - val_loss: 180.4127\n",
      "Epoch 63/100\n",
      "23/23 - 0s - 15ms/step - loss: 51.1678 - val_loss: 172.4275\n",
      "Epoch 64/100\n",
      "23/23 - 0s - 17ms/step - loss: 49.8354 - val_loss: 171.3645\n",
      "Epoch 65/100\n",
      "23/23 - 0s - 21ms/step - loss: 48.6239 - val_loss: 172.1501\n",
      "Epoch 66/100\n",
      "23/23 - 0s - 19ms/step - loss: 48.0123 - val_loss: 178.8118\n",
      "Epoch 67/100\n",
      "23/23 - 0s - 18ms/step - loss: 47.6871 - val_loss: 167.3846\n",
      "Epoch 68/100\n",
      "23/23 - 0s - 21ms/step - loss: 46.8638 - val_loss: 169.3866\n",
      "Epoch 69/100\n",
      "23/23 - 0s - 14ms/step - loss: 45.6599 - val_loss: 172.9008\n",
      "Epoch 70/100\n",
      "23/23 - 0s - 17ms/step - loss: 44.8036 - val_loss: 172.5105\n",
      "Epoch 71/100\n",
      "23/23 - 0s - 19ms/step - loss: 44.2338 - val_loss: 175.8354\n",
      "Epoch 72/100\n",
      "23/23 - 0s - 19ms/step - loss: 43.4150 - val_loss: 169.8667\n",
      "Epoch 73/100\n",
      "23/23 - 0s - 17ms/step - loss: 43.0328 - val_loss: 170.7304\n",
      "Epoch 74/100\n",
      "23/23 - 0s - 18ms/step - loss: 42.3489 - val_loss: 167.6145\n",
      "Epoch 75/100\n",
      "23/23 - 0s - 22ms/step - loss: 41.3643 - val_loss: 165.4718\n",
      "Epoch 76/100\n",
      "23/23 - 0s - 21ms/step - loss: 41.2587 - val_loss: 166.0482\n",
      "Epoch 77/100\n",
      "23/23 - 0s - 21ms/step - loss: 40.3393 - val_loss: 171.6455\n",
      "Epoch 78/100\n",
      "23/23 - 0s - 18ms/step - loss: 39.5893 - val_loss: 166.3653\n",
      "Epoch 79/100\n",
      "23/23 - 1s - 25ms/step - loss: 39.2553 - val_loss: 167.1216\n",
      "Epoch 80/100\n",
      "23/23 - 1s - 23ms/step - loss: 38.6454 - val_loss: 166.1750\n",
      "Epoch 81/100\n",
      "23/23 - 0s - 22ms/step - loss: 38.3130 - val_loss: 169.7077\n",
      "Epoch 82/100\n",
      "23/23 - 0s - 21ms/step - loss: 37.7255 - val_loss: 171.0058\n",
      "Epoch 83/100\n",
      "23/23 - 1s - 22ms/step - loss: 37.6066 - val_loss: 172.5202\n",
      "Epoch 84/100\n",
      "23/23 - 1s - 23ms/step - loss: 36.9858 - val_loss: 164.3852\n",
      "Epoch 85/100\n",
      "23/23 - 0s - 19ms/step - loss: 36.7575 - val_loss: 172.4522\n",
      "Epoch 86/100\n",
      "23/23 - 1s - 22ms/step - loss: 36.7623 - val_loss: 168.4291\n",
      "Epoch 87/100\n",
      "23/23 - 0s - 19ms/step - loss: 35.6434 - val_loss: 175.9674\n",
      "Epoch 88/100\n",
      "23/23 - 0s - 21ms/step - loss: 35.4137 - val_loss: 163.6715\n",
      "Epoch 89/100\n",
      "23/23 - 0s - 16ms/step - loss: 35.0134 - val_loss: 166.8519\n",
      "Epoch 90/100\n",
      "23/23 - 0s - 18ms/step - loss: 34.3893 - val_loss: 168.1524\n",
      "Epoch 91/100\n",
      "23/23 - 0s - 21ms/step - loss: 34.0332 - val_loss: 160.9444\n",
      "Epoch 92/100\n",
      "23/23 - 1s - 27ms/step - loss: 33.8466 - val_loss: 167.9631\n",
      "Epoch 93/100\n",
      "23/23 - 0s - 20ms/step - loss: 33.5026 - val_loss: 166.0021\n",
      "Epoch 94/100\n",
      "23/23 - 1s - 22ms/step - loss: 33.1554 - val_loss: 161.9364\n",
      "Epoch 95/100\n",
      "23/23 - 0s - 21ms/step - loss: 32.6467 - val_loss: 167.0164\n",
      "Epoch 96/100\n",
      "23/23 - 0s - 19ms/step - loss: 32.7380 - val_loss: 172.3051\n",
      "Epoch 97/100\n",
      "23/23 - 0s - 16ms/step - loss: 32.6440 - val_loss: 163.4008\n",
      "Epoch 98/100\n",
      "23/23 - 1s - 24ms/step - loss: 32.0393 - val_loss: 162.8517\n",
      "Epoch 99/100\n",
      "23/23 - 0s - 19ms/step - loss: 31.4778 - val_loss: 164.3982\n",
      "Epoch 100/100\n",
      "23/23 - 0s - 19ms/step - loss: 31.2649 - val_loss: 168.7482\n"
     ]
    },
    {
     "data": {
      "text/plain": [
       "<keras.src.callbacks.history.History at 0x773449bb2780>"
      ]
     },
     "execution_count": 22,
     "metadata": {},
     "output_type": "execute_result"
    }
   ],
   "source": [
    "model.fit(predictors_norm, target, validation_split=0.3, epochs=100, verbose=2)"
   ]
  },
  {
   "cell_type": "code",
   "execution_count": null,
   "metadata": {},
   "outputs": [],
   "source": []
  },
  {
   "cell_type": "markdown",
   "metadata": {},
   "source": [
    "<strong>You can refer to this [link](https://keras.io/models/sequential/) to learn about other functions that you can use for prediction or evaluation.</strong>\n"
   ]
  },
  {
   "cell_type": "markdown",
   "metadata": {},
   "source": [
    "Feel free to vary the following and note what impact each change has on the model's performance:\n",
    "\n",
    "1. Increase or decreate number of neurons in hidden layers\n",
    "2. Add more hidden layers\n",
    "3. Increase number of epochs\n"
   ]
  },
  {
   "cell_type": "markdown",
   "metadata": {},
   "source": [
    "<h3>Practice Exercise 1</h3>\n"
   ]
  },
  {
   "cell_type": "markdown",
   "metadata": {},
   "source": [
    "Now using the same dateset,try to recreate regression model featuring five hidden layers, each with 50 nodes and ReLU activation functions, a single output layer, optimized using the Adam optimizer.\n"
   ]
  },
  {
   "cell_type": "code",
   "execution_count": 41,
   "metadata": {},
   "outputs": [],
   "source": [
    "# Write your code here\n",
    "def regression_model2():\n",
    "    input_colm = predictors_norm.shape[1]\n",
    "    print(input_colm)\n",
    "    model = Sequential()\n",
    "    model.add(Input(shape=(input_colm,)))\n",
    "    model.add(Dense(50, activation='relu'))\n",
    "    model.add(Dense(50, activation='relu'))\n",
    "    model.add(Dense(50, activation='relu'))\n",
    "    model.add(Dense(50, activation='relu'))\n",
    "    model.add(Dense(50, activation='relu'))\n",
    "    model.add(Dense(1))\n",
    "\n",
    "    model.compile(optimizer='adam', loss='mean_squared_error')\n",
    "    return model\n"
   ]
  },
  {
   "cell_type": "markdown",
   "metadata": {},
   "source": [
    "Double-click <b>here</b> for the solution.\n",
    "\n",
    "<!-- Your answer is below:\n",
    "def regression_model():\n",
    "    input_colm = predictors_norm.shape[1] # Number of input features\n",
    "    # create model\n",
    "    model = Sequential()\n",
    "    model.add(Input(shape=(input_colm,)))  # Set the number of input features \n",
    "    model.add(Dense(50, activation='relu'))  \n",
    "    model.add(Dense(50, activation='relu'))\n",
    "    model.add(Dense(50, activation='relu')) \n",
    "    model.add(Dense(50, activation='relu'))\n",
    "    model.add(Dense(50, activation='relu'))  \n",
    "    model.add(Dense(1))  # Output layer\n",
    "    \n",
    "    # compile model\n",
    "    model.compile(optimizer='adam', loss='mean_squared_error')\n",
    "    return model\n",
    "\n",
    "-->\n"
   ]
  },
  {
   "cell_type": "markdown",
   "metadata": {},
   "source": [
    "<h3>Practice Exercise 2</h3>\n"
   ]
  },
  {
   "cell_type": "markdown",
   "metadata": {},
   "source": [
    " Train and evaluate the model simultaneously using the fit() method by reserving 10% of the data for validation and training the model for 100 epochs\n"
   ]
  },
  {
   "cell_type": "code",
   "execution_count": 42,
   "metadata": {},
   "outputs": [
    {
     "name": "stdout",
     "output_type": "stream",
     "text": [
      "8\n",
      "Epoch 1/100\n",
      "29/29 - 2s - 72ms/step - loss: 1501.5691 - val_loss: 933.6591\n",
      "Epoch 2/100\n",
      "29/29 - 0s - 9ms/step - loss: 620.0792 - val_loss: 195.9256\n",
      "Epoch 3/100\n",
      "29/29 - 0s - 11ms/step - loss: 226.2301 - val_loss: 174.5421\n",
      "Epoch 4/100\n",
      "29/29 - 0s - 8ms/step - loss: 186.8927 - val_loss: 171.0933\n",
      "Epoch 5/100\n",
      "29/29 - 0s - 7ms/step - loss: 169.3484 - val_loss: 160.9716\n",
      "Epoch 6/100\n",
      "29/29 - 0s - 7ms/step - loss: 157.9388 - val_loss: 148.5014\n",
      "Epoch 7/100\n",
      "29/29 - 0s - 8ms/step - loss: 140.7783 - val_loss: 129.7375\n",
      "Epoch 8/100\n",
      "29/29 - 0s - 7ms/step - loss: 123.1160 - val_loss: 119.8068\n",
      "Epoch 9/100\n",
      "29/29 - 0s - 7ms/step - loss: 108.2836 - val_loss: 118.0893\n",
      "Epoch 10/100\n",
      "29/29 - 0s - 8ms/step - loss: 96.1350 - val_loss: 108.3010\n",
      "Epoch 11/100\n",
      "29/29 - 0s - 8ms/step - loss: 84.1570 - val_loss: 94.5786\n",
      "Epoch 12/100\n",
      "29/29 - 0s - 8ms/step - loss: 74.5345 - val_loss: 92.9656\n",
      "Epoch 13/100\n",
      "29/29 - 0s - 8ms/step - loss: 66.0253 - val_loss: 86.3386\n",
      "Epoch 14/100\n",
      "29/29 - 0s - 8ms/step - loss: 59.3734 - val_loss: 79.9831\n",
      "Epoch 15/100\n",
      "29/29 - 0s - 8ms/step - loss: 53.6435 - val_loss: 79.8047\n",
      "Epoch 16/100\n",
      "29/29 - 0s - 8ms/step - loss: 48.2475 - val_loss: 64.2821\n",
      "Epoch 17/100\n",
      "29/29 - 0s - 7ms/step - loss: 44.7625 - val_loss: 59.7427\n",
      "Epoch 18/100\n",
      "29/29 - 0s - 8ms/step - loss: 40.1903 - val_loss: 55.5268\n",
      "Epoch 19/100\n",
      "29/29 - 0s - 8ms/step - loss: 37.5480 - val_loss: 49.5037\n",
      "Epoch 20/100\n",
      "29/29 - 0s - 8ms/step - loss: 35.2415 - val_loss: 44.9567\n",
      "Epoch 21/100\n",
      "29/29 - 0s - 8ms/step - loss: 34.5020 - val_loss: 39.1663\n",
      "Epoch 22/100\n",
      "29/29 - 0s - 8ms/step - loss: 31.7189 - val_loss: 40.9639\n",
      "Epoch 23/100\n",
      "29/29 - 0s - 8ms/step - loss: 30.7942 - val_loss: 39.3767\n",
      "Epoch 24/100\n",
      "29/29 - 0s - 8ms/step - loss: 28.6265 - val_loss: 35.3660\n",
      "Epoch 25/100\n",
      "29/29 - 0s - 8ms/step - loss: 27.4742 - val_loss: 32.7902\n",
      "Epoch 26/100\n",
      "29/29 - 0s - 8ms/step - loss: 27.2741 - val_loss: 31.3389\n",
      "Epoch 27/100\n",
      "29/29 - 0s - 8ms/step - loss: 25.4621 - val_loss: 28.8774\n",
      "Epoch 28/100\n",
      "29/29 - 0s - 8ms/step - loss: 24.9875 - val_loss: 27.4733\n",
      "Epoch 29/100\n",
      "29/29 - 0s - 9ms/step - loss: 24.2526 - val_loss: 31.5932\n",
      "Epoch 30/100\n",
      "29/29 - 0s - 8ms/step - loss: 23.6854 - val_loss: 26.2225\n",
      "Epoch 31/100\n",
      "29/29 - 0s - 8ms/step - loss: 23.0676 - val_loss: 26.5886\n",
      "Epoch 32/100\n",
      "29/29 - 0s - 8ms/step - loss: 22.7974 - val_loss: 23.8714\n",
      "Epoch 33/100\n",
      "29/29 - 0s - 7ms/step - loss: 21.0273 - val_loss: 23.4881\n",
      "Epoch 34/100\n",
      "29/29 - 0s - 7ms/step - loss: 21.2147 - val_loss: 24.8971\n",
      "Epoch 35/100\n",
      "29/29 - 0s - 7ms/step - loss: 20.3302 - val_loss: 25.7003\n",
      "Epoch 36/100\n",
      "29/29 - 0s - 8ms/step - loss: 19.8881 - val_loss: 25.8914\n",
      "Epoch 37/100\n",
      "29/29 - 0s - 8ms/step - loss: 19.0686 - val_loss: 22.9321\n",
      "Epoch 38/100\n",
      "29/29 - 0s - 7ms/step - loss: 20.5755 - val_loss: 33.9745\n",
      "Epoch 39/100\n",
      "29/29 - 0s - 8ms/step - loss: 19.1931 - val_loss: 21.7295\n",
      "Epoch 40/100\n",
      "29/29 - 0s - 8ms/step - loss: 18.9703 - val_loss: 28.7123\n",
      "Epoch 41/100\n",
      "29/29 - 0s - 8ms/step - loss: 18.0141 - val_loss: 20.6599\n",
      "Epoch 42/100\n",
      "29/29 - 0s - 8ms/step - loss: 17.6491 - val_loss: 20.6013\n",
      "Epoch 43/100\n",
      "29/29 - 0s - 7ms/step - loss: 17.9319 - val_loss: 22.8055\n",
      "Epoch 44/100\n",
      "29/29 - 0s - 7ms/step - loss: 17.4749 - val_loss: 21.6125\n",
      "Epoch 45/100\n",
      "29/29 - 0s - 7ms/step - loss: 16.4354 - val_loss: 20.3586\n",
      "Epoch 46/100\n",
      "29/29 - 0s - 8ms/step - loss: 16.3233 - val_loss: 20.2033\n",
      "Epoch 47/100\n",
      "29/29 - 0s - 8ms/step - loss: 16.3512 - val_loss: 23.1355\n",
      "Epoch 48/100\n",
      "29/29 - 0s - 7ms/step - loss: 17.2271 - val_loss: 19.0703\n",
      "Epoch 49/100\n",
      "29/29 - 0s - 7ms/step - loss: 16.2497 - val_loss: 21.1467\n",
      "Epoch 50/100\n",
      "29/29 - 0s - 7ms/step - loss: 15.5173 - val_loss: 22.2457\n",
      "Epoch 51/100\n",
      "29/29 - 0s - 7ms/step - loss: 15.9570 - val_loss: 18.3577\n",
      "Epoch 52/100\n",
      "29/29 - 0s - 8ms/step - loss: 15.5016 - val_loss: 25.1418\n",
      "Epoch 53/100\n",
      "29/29 - 0s - 8ms/step - loss: 14.5470 - val_loss: 22.3021\n",
      "Epoch 54/100\n",
      "29/29 - 0s - 8ms/step - loss: 14.7603 - val_loss: 17.5754\n",
      "Epoch 55/100\n",
      "29/29 - 0s - 8ms/step - loss: 15.3082 - val_loss: 18.2996\n",
      "Epoch 56/100\n",
      "29/29 - 0s - 8ms/step - loss: 15.7409 - val_loss: 20.1796\n",
      "Epoch 57/100\n",
      "29/29 - 0s - 7ms/step - loss: 15.2360 - val_loss: 22.4952\n",
      "Epoch 58/100\n",
      "29/29 - 0s - 8ms/step - loss: 14.8349 - val_loss: 16.4449\n",
      "Epoch 59/100\n",
      "29/29 - 0s - 8ms/step - loss: 15.3491 - val_loss: 18.9765\n",
      "Epoch 60/100\n",
      "29/29 - 0s - 8ms/step - loss: 13.9172 - val_loss: 16.4195\n",
      "Epoch 61/100\n",
      "29/29 - 0s - 7ms/step - loss: 14.9485 - val_loss: 20.2321\n",
      "Epoch 62/100\n",
      "29/29 - 0s - 8ms/step - loss: 14.4512 - val_loss: 18.8021\n",
      "Epoch 63/100\n",
      "29/29 - 0s - 8ms/step - loss: 13.4203 - val_loss: 17.8990\n",
      "Epoch 64/100\n",
      "29/29 - 0s - 8ms/step - loss: 14.6559 - val_loss: 22.0379\n",
      "Epoch 65/100\n",
      "29/29 - 0s - 8ms/step - loss: 15.3160 - val_loss: 23.3858\n",
      "Epoch 66/100\n",
      "29/29 - 0s - 9ms/step - loss: 13.0884 - val_loss: 21.0819\n",
      "Epoch 67/100\n",
      "29/29 - 0s - 8ms/step - loss: 13.7153 - val_loss: 15.8252\n",
      "Epoch 68/100\n",
      "29/29 - 0s - 8ms/step - loss: 13.2625 - val_loss: 20.8718\n",
      "Epoch 69/100\n",
      "29/29 - 0s - 8ms/step - loss: 12.9274 - val_loss: 15.1036\n",
      "Epoch 70/100\n",
      "29/29 - 0s - 8ms/step - loss: 12.5796 - val_loss: 18.3667\n",
      "Epoch 71/100\n",
      "29/29 - 0s - 9ms/step - loss: 12.8598 - val_loss: 18.7606\n",
      "Epoch 72/100\n",
      "29/29 - 0s - 8ms/step - loss: 14.3220 - val_loss: 14.9267\n",
      "Epoch 73/100\n",
      "29/29 - 0s - 8ms/step - loss: 12.2488 - val_loss: 15.5386\n",
      "Epoch 74/100\n",
      "29/29 - 0s - 8ms/step - loss: 12.5902 - val_loss: 14.7788\n",
      "Epoch 75/100\n",
      "29/29 - 0s - 8ms/step - loss: 12.0136 - val_loss: 14.8297\n",
      "Epoch 76/100\n",
      "29/29 - 0s - 8ms/step - loss: 12.4775 - val_loss: 16.5301\n",
      "Epoch 77/100\n",
      "29/29 - 0s - 8ms/step - loss: 12.8731 - val_loss: 15.0334\n",
      "Epoch 78/100\n",
      "29/29 - 0s - 8ms/step - loss: 12.2697 - val_loss: 14.4112\n",
      "Epoch 79/100\n",
      "29/29 - 0s - 7ms/step - loss: 11.8403 - val_loss: 14.5372\n",
      "Epoch 80/100\n",
      "29/29 - 0s - 8ms/step - loss: 11.7952 - val_loss: 16.0339\n",
      "Epoch 81/100\n",
      "29/29 - 0s - 8ms/step - loss: 13.0795 - val_loss: 15.1881\n",
      "Epoch 82/100\n",
      "29/29 - 0s - 8ms/step - loss: 12.4313 - val_loss: 14.4187\n",
      "Epoch 83/100\n",
      "29/29 - 0s - 8ms/step - loss: 12.4984 - val_loss: 13.4248\n",
      "Epoch 84/100\n",
      "29/29 - 0s - 8ms/step - loss: 11.6472 - val_loss: 14.6305\n",
      "Epoch 85/100\n",
      "29/29 - 0s - 8ms/step - loss: 12.1123 - val_loss: 15.5071\n",
      "Epoch 86/100\n",
      "29/29 - 0s - 7ms/step - loss: 11.5040 - val_loss: 13.5228\n",
      "Epoch 87/100\n",
      "29/29 - 0s - 8ms/step - loss: 11.0833 - val_loss: 13.5994\n",
      "Epoch 88/100\n",
      "29/29 - 0s - 8ms/step - loss: 10.8564 - val_loss: 14.9584\n",
      "Epoch 89/100\n",
      "29/29 - 0s - 8ms/step - loss: 10.8802 - val_loss: 17.3722\n",
      "Epoch 90/100\n",
      "29/29 - 0s - 8ms/step - loss: 12.1072 - val_loss: 13.3802\n",
      "Epoch 91/100\n",
      "29/29 - 0s - 7ms/step - loss: 11.8147 - val_loss: 15.0998\n",
      "Epoch 92/100\n",
      "29/29 - 0s - 8ms/step - loss: 10.6595 - val_loss: 13.7614\n",
      "Epoch 93/100\n",
      "29/29 - 0s - 7ms/step - loss: 11.1573 - val_loss: 17.2822\n",
      "Epoch 94/100\n",
      "29/29 - 0s - 7ms/step - loss: 11.2305 - val_loss: 12.9944\n",
      "Epoch 95/100\n",
      "29/29 - 0s - 8ms/step - loss: 10.5858 - val_loss: 14.7895\n",
      "Epoch 96/100\n",
      "29/29 - 0s - 7ms/step - loss: 11.9247 - val_loss: 14.2651\n",
      "Epoch 97/100\n",
      "29/29 - 0s - 8ms/step - loss: 11.3850 - val_loss: 13.1338\n",
      "Epoch 98/100\n",
      "29/29 - 0s - 8ms/step - loss: 11.4554 - val_loss: 13.4414\n",
      "Epoch 99/100\n",
      "29/29 - 0s - 8ms/step - loss: 11.6328 - val_loss: 15.3770\n",
      "Epoch 100/100\n",
      "29/29 - 0s - 8ms/step - loss: 10.2627 - val_loss: 17.5684\n"
     ]
    },
    {
     "data": {
      "text/plain": [
       "<keras.src.callbacks.history.History at 0x773449bb2180>"
      ]
     },
     "execution_count": 42,
     "metadata": {},
     "output_type": "execute_result"
    }
   ],
   "source": [
    "# Write your code here# fit the model\n",
    "model = regression_model2()\n",
    "model.fit(predictors_norm, target, validation_split=0.1, epochs=100, verbose=2)\n",
    "\n"
   ]
  },
  {
   "cell_type": "markdown",
   "metadata": {},
   "source": [
    "Double-click <b>here</b> for the solution.\n",
    "\n",
    "<!-- Your answer is below:\n",
    "# build the model\n",
    "model = regression_model()\n",
    "model.fit(predictors_norm, target, validation_split=0.1, epochs=100, verbose=2)\n",
    "\n",
    "-->\n"
   ]
  },
  {
   "cell_type": "markdown",
   "metadata": {},
   "source": [
    "Based on the results, we notice that:\n",
    "\n",
    "- Adding more hidden layers to the model increases its capacity to learn and represent complex relationships within the data. This allows the model to better identify, as a result, the model becomes more effective at fitting the training data and potentially improving its predictions.\n",
    "- By reducing the proportion of data set aside for validation and using a larger portion for training, the model has access to more examples to learn from. This additional training data helps the model improve its understanding of the underlying trends, which can lead to better overall performance.  \n"
   ]
  },
  {
   "cell_type": "markdown",
   "metadata": {},
   "source": [
    "### Thank you for completing this lab!\n",
    "\n",
    "This notebook was created by [Alex Aklson](https://www.linkedin.com/in/aklson/). I hope you found this lab interesting and educational. Feel free to contact me if you have any questions!\n"
   ]
  },
  {
   "cell_type": "markdown",
   "metadata": {},
   "source": [
    "<!--\n",
    "## Change Log\n",
    "\n",
    "|  Date (YYYY-MM-DD) |  Version | Changed By  |  Change Description |\n",
    "|---|---|---|---|\n",
    "| 2024-11-20  | 3.0  | Aman  |  Updated the library versions to current |\n",
    "| 2020-09-21  | 2.0  | Srishti  |  Migrated Lab to Markdown and added to course repo in GitLab |\n",
    "\n",
    "\n",
    "\n",
    "<hr>\n",
    "\n",
    "## <h3 align=\"center\"> © IBM Corporation. All rights reserved. <h3/>\n"
   ]
  },
  {
   "cell_type": "markdown",
   "metadata": {},
   "source": [
    "## <h3 align=\"center\"> &#169; IBM Corporation. All rights reserved. <h3/>\n",
    "\n"
   ]
  }
 ],
 "metadata": {
  "kernelspec": {
   "display_name": "Python 3 (ipykernel)",
   "language": "python",
   "name": "python3"
  },
  "language_info": {
   "codemirror_mode": {
    "name": "ipython",
    "version": 3
   },
   "file_extension": ".py",
   "mimetype": "text/x-python",
   "name": "python",
   "nbconvert_exporter": "python",
   "pygments_lexer": "ipython3",
   "version": "3.12.8"
  },
  "prev_pub_hash": "1318243f5c57a871ada11a63a887b187b71b9e224c59cc45cb9fac7ca19844fc"
 },
 "nbformat": 4,
 "nbformat_minor": 4
}
