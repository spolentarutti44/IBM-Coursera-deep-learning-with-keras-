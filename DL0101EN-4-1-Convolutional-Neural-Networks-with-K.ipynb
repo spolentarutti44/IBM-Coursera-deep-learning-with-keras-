{
 "cells": [
  {
   "cell_type": "markdown",
   "metadata": {},
   "source": [
    "<a href=\"https://cognitiveclass.ai\"><img src=\"https://cf-courses-data.s3.us.cloud-object-storage.appdomain.cloud/IBMDeveloperSkillsNetwork-DL0101EN-SkillsNetwork/images/IDSN-logo.png\" width=\"400\"> </a>\n",
    "\n",
    "# Convolutional Neural Networks with Keras\n",
    "\n",
    "Estimated time needed **30** mins\n"
   ]
  },
  {
   "cell_type": "markdown",
   "metadata": {},
   "source": [
    "In this lab, we will learn how to use the Keras library to build convolutional neural networks. We will also use the popular MNIST dataset and we will compare our results to using a conventional neural network.\n"
   ]
  },
  {
   "cell_type": "markdown",
   "metadata": {},
   "source": [
    "## Objectives for this Notebook    \n",
    "* How to use the Keras library to build convolutional neural networks\n",
    "* Convolutional neural network with one set of convolutional and pooling layers\n",
    "* Convolutional neural network with two sets of convolutional and pooling layers\n",
    "\n"
   ]
  },
  {
   "cell_type": "markdown",
   "metadata": {},
   "source": [
    "## Table of Contents\n",
    "\n",
    "<div class=\"alert alert-block alert-info\" style=\"margin-top: 20px\">\n",
    "\n",
    "<font size = 3>\n",
    "      \n",
    "1. <a href=\"#Import-Keras-and-Packages\">Import Keras and Packages</a>   \n",
    "2. <a href=\"#Convolutional-Neural-Network-with-One-Set-of-Convolutional-and-Pooling-Layers\">Convolutional Neural Network with One Set of Convolutional and Pooling Layers</a>  \n",
    "3. <a href=\"#Convolutional-Neural-Network-with-Two-Sets-of-Convolutional-and-Pooling-Layers\">Convolutional Neural Network with Two Sets of Convolutional and Pooling Layers</a>  \n",
    "\n",
    "</font>\n",
    "</div>\n"
   ]
  },
  {
   "cell_type": "markdown",
   "metadata": {},
   "source": [
    "### Install the necessary libraries\n"
   ]
  },
  {
   "cell_type": "markdown",
   "metadata": {},
   "source": [
    "Let's start by installing the keras libraries and the packages that we would need to build a neural network.\n"
   ]
  },
  {
   "cell_type": "code",
   "execution_count": null,
   "metadata": {
    "scrolled": true
   },
   "outputs": [],
   "source": [
    "# All Libraries required for this lab are listed below. The libraries need to be installed on Skills Network Labs. \n",
    "# If you run this notebook on a different environment, e.g. your desktop, you may want to install these.\n",
    "!pip install numpy==2.0.2\n",
    "!pip install pandas==2.2.2\n",
    "!pip install tensorflow_cpu==2.18.0\n",
    "!pip install matplotlib==3.9.2"
   ]
  },
  {
   "cell_type": "markdown",
   "metadata": {},
   "source": [
    "#### Suppress the tensorflow warning messages\n",
    "We use the following code to  suppress the warning messages due to use of CPU architechture for tensoflow.\n",
    "You may want to **comment out** these lines if you are using the GPU architechture\n"
   ]
  },
  {
   "cell_type": "code",
   "execution_count": 2,
   "metadata": {},
   "outputs": [],
   "source": [
    "import os\n",
    "os.environ['TF_ENABLE_ONEDNN_OPTS'] = '0'\n",
    "os.environ['TF_CPP_MIN_LOG_LEVEL'] = '2'"
   ]
  },
  {
   "cell_type": "markdown",
   "metadata": {},
   "source": [
    "## Import Keras and Packages\n"
   ]
  },
  {
   "cell_type": "code",
   "execution_count": null,
   "metadata": {
    "editable": true,
    "slideshow": {
     "slide_type": ""
    },
    "tags": []
   },
   "outputs": [],
   "source": []
  },
  {
   "cell_type": "code",
   "execution_count": 8,
   "metadata": {},
   "outputs": [],
   "source": [
    "import keras\n",
    "from keras.models import Sequential\n",
    "from keras.layers import Dense\n",
    "from keras.layers import Input\n",
    "from keras.utils import to_categorical"
   ]
  },
  {
   "cell_type": "markdown",
   "metadata": {},
   "source": [
    "When working with convolutional neural networks in particular, we will need additional packages.\n"
   ]
  },
  {
   "cell_type": "code",
   "execution_count": 11,
   "metadata": {},
   "outputs": [],
   "source": []
  },
  {
   "cell_type": "code",
   "execution_count": 12,
   "metadata": {},
   "outputs": [],
   "source": [
    "from keras.layers import Conv2D # to add convolutional layers\n",
    "from keras.layers import MaxPooling2D # to add pooling layers\n",
    "from keras.layers import Flatten # to flatten data for fully connected layers"
   ]
  },
  {
   "cell_type": "markdown",
   "metadata": {},
   "source": [
    "## Convolutional Neural Network with One Set of Convolutional and Pooling Layers\n"
   ]
  },
  {
   "cell_type": "code",
   "execution_count": 25,
   "metadata": {},
   "outputs": [],
   "source": [
    "from keras.datasets import mnist\n",
    "\n",
    "(X_train, y_train), (X_test, y_test) = mnist.load_data()\n",
    "\n",
    "X_train = X_train.reshape(X_train.shape[0], 28, 28, 1).astype('float32')\n",
    "X_test = X_test.reshape(X_test.shape[0], 28, 28, 1).astype('float32')\n"
   ]
  },
  {
   "cell_type": "code",
   "execution_count": 26,
   "metadata": {},
   "outputs": [],
   "source": [
    "# import data\n",
    "from keras.datasets import mnist\n",
    "\n",
    "# load data\n",
    "(X_train, y_train), (X_test, y_test) = mnist.load_data()\n",
    "\n",
    "# reshape to be [samples][pixels][width][height]\n",
    "X_train = X_train.reshape(X_train.shape[0], 28, 28, 1).astype('float32')\n",
    "X_test = X_test.reshape(X_test.shape[0], 28, 28, 1).astype('float32')"
   ]
  },
  {
   "cell_type": "markdown",
   "metadata": {},
   "source": [
    "Let's normalize the pixel values to be between 0 and 1\n"
   ]
  },
  {
   "cell_type": "code",
   "execution_count": 14,
   "metadata": {},
   "outputs": [
    {
     "name": "stdout",
     "output_type": "stream",
     "text": [
      "10\n"
     ]
    }
   ],
   "source": []
  },
  {
   "cell_type": "code",
   "execution_count": 27,
   "metadata": {},
   "outputs": [],
   "source": [
    "X_train = X_train / 255 # normalize training data\n",
    "X_test = X_test / 255 # normalize test data"
   ]
  },
  {
   "cell_type": "markdown",
   "metadata": {},
   "source": [
    "Next, let's convert the target variable into binary categories\n"
   ]
  },
  {
   "cell_type": "code",
   "execution_count": 28,
   "metadata": {},
   "outputs": [],
   "source": [
    "y_train = to_categorical(y_train)\n",
    "y_test = to_categorical(y_test)\n",
    "\n",
    "num_classes = y_test.shape[1] # number of categories"
   ]
  },
  {
   "cell_type": "markdown",
   "metadata": {},
   "source": [
    "Next, let's define a function that creates our model. Let's start with one set of convolutional and pooling layers.\n"
   ]
  },
  {
   "cell_type": "code",
   "execution_count": 18,
   "metadata": {},
   "outputs": [],
   "source": []
  },
  {
   "cell_type": "code",
   "execution_count": 29,
   "metadata": {},
   "outputs": [],
   "source": [
    "def convolutional_model():\n",
    "    \n",
    "    # create model\n",
    "    model = Sequential()\n",
    "    model.add(Input(shape=(28, 28, 1)))\n",
    "    model.add(Conv2D(16, (5, 5), strides=(1, 1), activation='relu'))\n",
    "    model.add(MaxPooling2D(pool_size=(2, 2), strides=(2, 2)))\n",
    "    \n",
    "    model.add(Flatten())\n",
    "    model.add(Dense(100, activation='relu'))\n",
    "    model.add(Dense(num_classes, activation='softmax'))\n",
    "    \n",
    "    # compile model\n",
    "    model.compile(optimizer='adam', loss='categorical_crossentropy',  metrics=['accuracy'])\n",
    "    return model"
   ]
  },
  {
   "cell_type": "markdown",
   "metadata": {},
   "source": [
    "Finally, let's call the function to create the model, and then let's train it and evaluate it.\n"
   ]
  },
  {
   "cell_type": "code",
   "execution_count": 30,
   "metadata": {},
   "outputs": [
    {
     "name": "stdout",
     "output_type": "stream",
     "text": [
      "Epoch 1/10\n",
      "300/300 - 36s - 120ms/step - accuracy: 0.9175 - loss: 0.2987 - val_accuracy: 0.9692 - val_loss: 0.1045\n",
      "Epoch 2/10\n",
      "300/300 - 34s - 114ms/step - accuracy: 0.9735 - loss: 0.0911 - val_accuracy: 0.9784 - val_loss: 0.0667\n",
      "Epoch 3/10\n",
      "300/300 - 34s - 113ms/step - accuracy: 0.9818 - loss: 0.0611 - val_accuracy: 0.9816 - val_loss: 0.0567\n",
      "Epoch 4/10\n",
      "300/300 - 34s - 113ms/step - accuracy: 0.9862 - loss: 0.0461 - val_accuracy: 0.9864 - val_loss: 0.0424\n",
      "Epoch 5/10\n",
      "300/300 - 34s - 114ms/step - accuracy: 0.9889 - loss: 0.0372 - val_accuracy: 0.9868 - val_loss: 0.0415\n",
      "Epoch 6/10\n",
      "300/300 - 34s - 113ms/step - accuracy: 0.9912 - loss: 0.0301 - val_accuracy: 0.9876 - val_loss: 0.0383\n",
      "Epoch 7/10\n",
      "300/300 - 34s - 112ms/step - accuracy: 0.9922 - loss: 0.0257 - val_accuracy: 0.9865 - val_loss: 0.0421\n",
      "Epoch 8/10\n",
      "300/300 - 34s - 113ms/step - accuracy: 0.9936 - loss: 0.0209 - val_accuracy: 0.9876 - val_loss: 0.0389\n",
      "Epoch 9/10\n",
      "300/300 - 34s - 113ms/step - accuracy: 0.9943 - loss: 0.0182 - val_accuracy: 0.9887 - val_loss: 0.0325\n",
      "Epoch 10/10\n",
      "300/300 - 34s - 112ms/step - accuracy: 0.9958 - loss: 0.0142 - val_accuracy: 0.9892 - val_loss: 0.0367\n",
      "Accuracy: 0.9891999959945679 \n",
      " Error: 1.080000400543213\n"
     ]
    }
   ],
   "source": [
    "# build the model\n",
    "model = convolutional_model()\n",
    "\n",
    "# fit the model\n",
    "model.fit(X_train, y_train, validation_data=(X_test, y_test), epochs=10, batch_size=200, verbose=2)\n",
    "\n",
    "# evaluate the model\n",
    "scores = model.evaluate(X_test, y_test, verbose=0)\n",
    "print(\"Accuracy: {} \\n Error: {}\".format(scores[1], 100-scores[1]*100))"
   ]
  },
  {
   "cell_type": "markdown",
   "metadata": {},
   "source": [
    "------------------------------------------\n"
   ]
  },
  {
   "cell_type": "markdown",
   "metadata": {},
   "source": [
    "## Convolutional Neural Network with Two Sets of Convolutional and Pooling Layers\n"
   ]
  },
  {
   "cell_type": "markdown",
   "metadata": {},
   "source": [
    "Let's redefine our convolutional model so that it has two convolutional and pooling layers instead of just one layer of each.\n"
   ]
  },
  {
   "cell_type": "code",
   "execution_count": 31,
   "metadata": {},
   "outputs": [],
   "source": [
    "def convolutional_model():\n",
    "    \n",
    "    # create model\n",
    "    model = Sequential()\n",
    "    model.add(Input(shape=(28, 28, 1)))\n",
    "    model.add(Conv2D(16, (5, 5), activation='relu'))\n",
    "    model.add(MaxPooling2D(pool_size=(2, 2), strides=(2, 2)))\n",
    "    \n",
    "    model.add(Conv2D(8, (2, 2), activation='relu'))\n",
    "    model.add(MaxPooling2D(pool_size=(2, 2), strides=(2, 2)))\n",
    "    \n",
    "    model.add(Flatten())\n",
    "    model.add(Dense(100, activation='relu'))\n",
    "    model.add(Dense(num_classes, activation='softmax'))\n",
    "    \n",
    "    # Compile model\n",
    "    model.compile(optimizer='adam', loss='categorical_crossentropy',  metrics=['accuracy'])\n",
    "    return model"
   ]
  },
  {
   "cell_type": "markdown",
   "metadata": {},
   "source": [
    "Now, let's call the function to create our new convolutional neural network, and then let's train it and evaluate it.\n"
   ]
  },
  {
   "cell_type": "code",
   "execution_count": 32,
   "metadata": {},
   "outputs": [
    {
     "name": "stdout",
     "output_type": "stream",
     "text": [
      "Epoch 1/10\n",
      "300/300 - 38s - 126ms/step - accuracy: 0.8655 - loss: 0.4728 - val_accuracy: 0.9602 - val_loss: 0.1272\n",
      "Epoch 2/10\n",
      "300/300 - 36s - 121ms/step - accuracy: 0.9650 - loss: 0.1153 - val_accuracy: 0.9750 - val_loss: 0.0811\n",
      "Epoch 3/10\n",
      "300/300 - 36s - 120ms/step - accuracy: 0.9742 - loss: 0.0843 - val_accuracy: 0.9824 - val_loss: 0.0596\n",
      "Epoch 4/10\n",
      "300/300 - 37s - 122ms/step - accuracy: 0.9801 - loss: 0.0667 - val_accuracy: 0.9837 - val_loss: 0.0538\n",
      "Epoch 5/10\n",
      "300/300 - 36s - 121ms/step - accuracy: 0.9827 - loss: 0.0585 - val_accuracy: 0.9827 - val_loss: 0.0513\n",
      "Epoch 6/10\n",
      "300/300 - 36s - 119ms/step - accuracy: 0.9846 - loss: 0.0506 - val_accuracy: 0.9858 - val_loss: 0.0426\n",
      "Epoch 7/10\n",
      "300/300 - 36s - 120ms/step - accuracy: 0.9863 - loss: 0.0454 - val_accuracy: 0.9864 - val_loss: 0.0427\n",
      "Epoch 8/10\n",
      "300/300 - 36s - 120ms/step - accuracy: 0.9879 - loss: 0.0400 - val_accuracy: 0.9873 - val_loss: 0.0410\n",
      "Epoch 9/10\n",
      "300/300 - 36s - 120ms/step - accuracy: 0.9883 - loss: 0.0375 - val_accuracy: 0.9853 - val_loss: 0.0386\n",
      "Epoch 10/10\n",
      "300/300 - 36s - 119ms/step - accuracy: 0.9896 - loss: 0.0336 - val_accuracy: 0.9869 - val_loss: 0.0401\n",
      "Accuracy: 0.9868999719619751 \n",
      " Error: 1.3100028038024902\n"
     ]
    }
   ],
   "source": [
    "# build the model\n",
    "model = convolutional_model()\n",
    "\n",
    "# fit the model\n",
    "model.fit(X_train, y_train, validation_data=(X_test, y_test), epochs=10, batch_size=200, verbose=2)\n",
    "\n",
    "# evaluate the model\n",
    "scores = model.evaluate(X_test, y_test, verbose=0)\n",
    "print(\"Accuracy: {} \\n Error: {}\".format(scores[1], 100-scores[1]*100))"
   ]
  },
  {
   "cell_type": "markdown",
   "metadata": {},
   "source": [
    "<h3>Practice Exercise 1</h3>\n"
   ]
  },
  {
   "cell_type": "markdown",
   "metadata": {},
   "source": [
    "Let's see how batch size affects the time required and accuracy of the model training. \n",
    "For this, you can try to change batch_size to 1024 and check it's effect on accuracy\n"
   ]
  },
  {
   "cell_type": "code",
   "execution_count": 34,
   "metadata": {},
   "outputs": [],
   "source": [
    "# Write your answer here\n",
    "def convolutional_model_SLP():\n",
    "\n",
    "      # create model\n",
    "    model = Sequential()\n",
    "    model.add(Input(shape=(28, 28, 1)))\n",
    "    model.add(Conv2D(16, (5, 5), activation='relu'))\n",
    "    model.add(MaxPooling2D(pool_size=(2, 2), strides=(2, 2)))\n",
    "    \n",
    "    model.add(Conv2D(8, (2, 2), activation='relu'))\n",
    "    model.add(MaxPooling2D(pool_size=(2, 2), strides=(2, 2)))\n",
    "    \n",
    "    model.add(Flatten())\n",
    "    model.add(Dense(100, activation='relu'))\n",
    "    model.add(Dense(num_classes, activation='softmax'))\n",
    "\n",
    "    model.compile(optimizer='adam', loss='categorical_crossentropy', metrics=['accuracy'])\n",
    "    return model\n"
   ]
  },
  {
   "cell_type": "code",
   "execution_count": 36,
   "metadata": {},
   "outputs": [
    {
     "name": "stdout",
     "output_type": "stream",
     "text": [
      "Epoch 1/10\n",
      "59/59 - 35s - 598ms/step - accuracy: 0.6615 - loss: 1.2657 - val_accuracy: 0.8882 - val_loss: 0.3863\n",
      "Epoch 2/10\n",
      "59/59 - 34s - 571ms/step - accuracy: 0.9146 - loss: 0.2937 - val_accuracy: 0.9396 - val_loss: 0.2026\n",
      "Epoch 3/10\n",
      "59/59 - 34s - 568ms/step - accuracy: 0.9458 - loss: 0.1834 - val_accuracy: 0.9579 - val_loss: 0.1432\n",
      "Epoch 4/10\n",
      "59/59 - 35s - 592ms/step - accuracy: 0.9597 - loss: 0.1364 - val_accuracy: 0.9701 - val_loss: 0.1072\n",
      "Epoch 5/10\n",
      "59/59 - 34s - 580ms/step - accuracy: 0.9669 - loss: 0.1126 - val_accuracy: 0.9727 - val_loss: 0.0949\n",
      "Epoch 6/10\n",
      "59/59 - 34s - 572ms/step - accuracy: 0.9703 - loss: 0.0994 - val_accuracy: 0.9769 - val_loss: 0.0799\n",
      "Epoch 7/10\n",
      "59/59 - 34s - 572ms/step - accuracy: 0.9729 - loss: 0.0884 - val_accuracy: 0.9779 - val_loss: 0.0745\n",
      "Epoch 8/10\n",
      "59/59 - 34s - 577ms/step - accuracy: 0.9761 - loss: 0.0791 - val_accuracy: 0.9778 - val_loss: 0.0714\n",
      "Epoch 9/10\n",
      "59/59 - 34s - 576ms/step - accuracy: 0.9777 - loss: 0.0729 - val_accuracy: 0.9817 - val_loss: 0.0615\n",
      "Epoch 10/10\n",
      "59/59 - 34s - 569ms/step - accuracy: 0.9806 - loss: 0.0657 - val_accuracy: 0.9823 - val_loss: 0.0591\n",
      "Accuracy: 0.9822999835014343 \n",
      " Error: 1.7700016498565674\n"
     ]
    }
   ],
   "source": [
    "\n",
    "    model = convolutional_model_SLP()\n",
    "\n",
    "    model.fit(X_train, y_train, validation_data=(X_test, y_test), epochs=10, batch_size=1024, verbose=2)\n",
    "\n",
    "    scores = model.evaluate(X_test, y_test, verbose=0)\n",
    "\n",
    "    print(\"Accuracy: {} \\n Error: {}\".format(scores[1], 100-scores[1]*100))\n",
    "    \n"
   ]
  },
  {
   "cell_type": "markdown",
   "metadata": {},
   "source": [
    "Double-click <b>here</b> for the solution.\n",
    "\n",
    "<!-- Your answer is below:\n",
    "# build the model\n",
    "model = convolutional_model()\n",
    "\n",
    "# fit the model\n",
    "model.fit(X_train, y_train, validation_data=(X_test, y_test), epochs=10, batch_size=1024, verbose=2)\n",
    "\n",
    "# evaluate the model\n",
    "scores = model.evaluate(X_test, y_test, verbose=0)\n",
    "print(\"Accuracy: {} \\n Error: {}\".format(scores[1], 100-scores[1]*100))\n",
    "-->\n"
   ]
  },
  {
   "cell_type": "markdown",
   "metadata": {},
   "source": [
    "<h3>Practice Exercise 2</h3>\n"
   ]
  },
  {
   "cell_type": "markdown",
   "metadata": {},
   "source": [
    "Now, let's see how number of epochs  affect the time required and accuracy of the model training. \n",
    "For this, you can keep the batch_size=1024 and epochs=25 and check it's effect on accuracy\n"
   ]
  },
  {
   "cell_type": "code",
   "execution_count": 38,
   "metadata": {},
   "outputs": [
    {
     "name": "stdout",
     "output_type": "stream",
     "text": [
      "Epoch 1/25\n",
      "59/59 - 35s - 599ms/step - accuracy: 0.6701 - loss: 1.2975 - val_accuracy: 0.8771 - val_loss: 0.4273\n",
      "Epoch 2/25\n",
      "59/59 - 34s - 573ms/step - accuracy: 0.9004 - loss: 0.3419 - val_accuracy: 0.9326 - val_loss: 0.2425\n",
      "Epoch 3/25\n",
      "59/59 - 40s - 686ms/step - accuracy: 0.9353 - loss: 0.2201 - val_accuracy: 0.9540 - val_loss: 0.1647\n",
      "Epoch 4/25\n",
      "59/59 - 34s - 571ms/step - accuracy: 0.9524 - loss: 0.1605 - val_accuracy: 0.9628 - val_loss: 0.1262\n",
      "Epoch 5/25\n",
      "59/59 - 35s - 590ms/step - accuracy: 0.9617 - loss: 0.1295 - val_accuracy: 0.9685 - val_loss: 0.1052\n",
      "Epoch 6/25\n",
      "59/59 - 35s - 587ms/step - accuracy: 0.9667 - loss: 0.1110 - val_accuracy: 0.9737 - val_loss: 0.0922\n",
      "Epoch 7/25\n",
      "59/59 - 35s - 585ms/step - accuracy: 0.9712 - loss: 0.0972 - val_accuracy: 0.9759 - val_loss: 0.0798\n",
      "Epoch 8/25\n",
      "59/59 - 34s - 570ms/step - accuracy: 0.9732 - loss: 0.0883 - val_accuracy: 0.9765 - val_loss: 0.0760\n",
      "Epoch 9/25\n",
      "59/59 - 34s - 577ms/step - accuracy: 0.9751 - loss: 0.0818 - val_accuracy: 0.9770 - val_loss: 0.0730\n",
      "Epoch 10/25\n",
      "59/59 - 34s - 571ms/step - accuracy: 0.9770 - loss: 0.0749 - val_accuracy: 0.9805 - val_loss: 0.0639\n",
      "Epoch 11/25\n",
      "59/59 - 34s - 571ms/step - accuracy: 0.9785 - loss: 0.0711 - val_accuracy: 0.9793 - val_loss: 0.0645\n",
      "Epoch 12/25\n",
      "59/59 - 34s - 577ms/step - accuracy: 0.9802 - loss: 0.0657 - val_accuracy: 0.9806 - val_loss: 0.0596\n",
      "Epoch 13/25\n",
      "59/59 - 34s - 580ms/step - accuracy: 0.9812 - loss: 0.0616 - val_accuracy: 0.9820 - val_loss: 0.0585\n",
      "Epoch 14/25\n",
      "59/59 - 34s - 574ms/step - accuracy: 0.9824 - loss: 0.0578 - val_accuracy: 0.9826 - val_loss: 0.0536\n",
      "Epoch 15/25\n",
      "59/59 - 34s - 573ms/step - accuracy: 0.9831 - loss: 0.0558 - val_accuracy: 0.9819 - val_loss: 0.0528\n",
      "Epoch 16/25\n",
      "59/59 - 34s - 569ms/step - accuracy: 0.9841 - loss: 0.0518 - val_accuracy: 0.9808 - val_loss: 0.0556\n",
      "Epoch 17/25\n",
      "59/59 - 34s - 573ms/step - accuracy: 0.9850 - loss: 0.0496 - val_accuracy: 0.9838 - val_loss: 0.0480\n",
      "Epoch 18/25\n",
      "59/59 - 33s - 565ms/step - accuracy: 0.9855 - loss: 0.0471 - val_accuracy: 0.9829 - val_loss: 0.0502\n",
      "Epoch 19/25\n",
      "59/59 - 33s - 561ms/step - accuracy: 0.9840 - loss: 0.0495 - val_accuracy: 0.9843 - val_loss: 0.0470\n",
      "Epoch 20/25\n",
      "59/59 - 33s - 556ms/step - accuracy: 0.9864 - loss: 0.0446 - val_accuracy: 0.9843 - val_loss: 0.0476\n",
      "Epoch 21/25\n",
      "59/59 - 33s - 560ms/step - accuracy: 0.9869 - loss: 0.0428 - val_accuracy: 0.9850 - val_loss: 0.0468\n",
      "Epoch 22/25\n",
      "59/59 - 33s - 563ms/step - accuracy: 0.9872 - loss: 0.0418 - val_accuracy: 0.9847 - val_loss: 0.0457\n",
      "Epoch 23/25\n",
      "59/59 - 33s - 561ms/step - accuracy: 0.9878 - loss: 0.0402 - val_accuracy: 0.9856 - val_loss: 0.0432\n",
      "Epoch 24/25\n",
      "59/59 - 33s - 566ms/step - accuracy: 0.9875 - loss: 0.0397 - val_accuracy: 0.9844 - val_loss: 0.0452\n",
      "Epoch 25/25\n",
      "59/59 - 35s - 586ms/step - accuracy: 0.9882 - loss: 0.0385 - val_accuracy: 0.9868 - val_loss: 0.0449\n",
      "Accuracy: 0.9868000149726868 \n",
      " Error: 1.3199985027313232\n"
     ]
    }
   ],
   "source": [
    "# Write your answer here\n",
    "\n",
    "model = convolutional_model_SLP()\n",
    "\n",
    "model.fit(X_train, y_train, validation_data=(X_test, y_test), epochs=25, batch_size=1024, verbose=2)\n",
    "\n",
    "scores = model.evaluate(X_test, y_test, verbose=0)\n",
    "\n",
    "print(\"Accuracy: {} \\n Error: {}\".format(scores[1], 100-scores[1]*100))\n",
    "\n",
    "\n"
   ]
  },
  {
   "cell_type": "markdown",
   "metadata": {},
   "source": [
    "Double-click <b>here</b> for the solution.\n",
    "\n",
    "<!-- Your answer is below:\n",
    "# build the model\n",
    "model = convolutional_model()\n",
    "\n",
    "# fit the model\n",
    "model.fit(X_train, y_train, validation_data=(X_test, y_test), epochs=25, batch_size=1024, verbose=2)\n",
    "\n",
    "# evaluate the model\n",
    "scores = model.evaluate(X_test, y_test, verbose=0)\n",
    "print(\"Accuracy: {} \\n Error: {}\".format(scores[1], 100-scores[1]*100))\n",
    "\n",
    "\n",
    "    -->\n"
   ]
  },
  {
   "cell_type": "markdown",
   "metadata": {},
   "source": [
    "### Thank you for completing this lab!\n",
    "\n",
    "This notebook was created by [Alex Aklson](https://www.linkedin.com/in/aklson/). I hope you found this lab interesting and educational. Feel free to contact me if you have any questions!\n"
   ]
  },
  {
   "cell_type": "markdown",
   "metadata": {},
   "source": [
    "<!--\n",
    "## Change Log\n",
    "\n",
    "|  Date (YYYY-MM-DD) |  Version | Changed By  |  Change Description |\n",
    "|---|---|---|---|\n",
    "| 2024-11-20  | 3.0  | Aman  |  Updated the library versions to current |\n",
    "| 2020-09-21  | 2.0  | Srishti  |  Migrated Lab to Markdown and added to course repo in GitLab |\n",
    "\n",
    "\n",
    "\n",
    "<hr>\n",
    "\n",
    "## <h3 align=\"center\"> © IBM Corporation. All rights reserved. <h3/>\n"
   ]
  },
  {
   "cell_type": "markdown",
   "metadata": {},
   "source": [
    "## <h3 align=\"center\"> &#169; IBM Corporation. All rights reserved. <h3/>\n",
    "\n"
   ]
  }
 ],
 "metadata": {
  "kernelspec": {
   "display_name": "Python 3 (ipykernel)",
   "language": "python",
   "name": "python3"
  },
  "language_info": {
   "codemirror_mode": {
    "name": "ipython",
    "version": 3
   },
   "file_extension": ".py",
   "mimetype": "text/x-python",
   "name": "python",
   "nbconvert_exporter": "python",
   "pygments_lexer": "ipython3",
   "version": "3.12.8"
  },
  "prev_pub_hash": "cf25684b5f40b85f8cce20a89cf822f405779387881f3fd281fbe1317debe407"
 },
 "nbformat": 4,
 "nbformat_minor": 4
}
